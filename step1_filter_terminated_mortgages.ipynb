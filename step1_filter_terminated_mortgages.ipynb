{
  "nbformat": 4,
  "nbformat_minor": 0,
  "metadata": {
    "colab": {
      "name": "step1_FM_create_dataset_pre_chg_v3.ipynb",
      "provenance": [],
      "collapsed_sections": [
        "LSRWzYxglyL7",
        "HUMebS3AJsBZ",
        "cvvvFV7SJxer",
        "mdgXWWzvOUDz",
        "WCNe-hT_qNb_",
        "zt0GJAb12i8y",
        "4HPCdeMnxK2G",
        "E-w_ZNncxbrG",
        "4fhnhMWU5XV-",
        "f12uftB3qLIq",
        "XTVSB-k_1GS5",
        "Imcb6_7QASqI",
        "5vxuiIJJJWYF",
        "CxU7hLsCKWEG",
        "9SU5TX8LVD3J",
        "JXlUIulyV4dO",
        "MtWTvLvRXH2h",
        "jhpTFG0LZZMf",
        "SQj9jDWpYEHL",
        "g5dVHsFZZFUK",
        "T1GldNbiZz1j",
        "uhJARvHpbTQm",
        "aWNy3MbhDXRh",
        "w9JieyexPw27",
        "A6j4TWgrY9KM",
        "hg9NgBWcbqqp",
        "eq2GYdJt67oR",
        "c25mWoqEgWsk",
        "JnEpdheWgnkB",
        "4aHgzez-ljsO",
        "XaqxKMn2rg_t",
        "nmlhX17n6hpc",
        "OChy8KUF94Qd",
        "VihfBv7Zvf0f",
        "vTKbVjsehJqA"
      ],
      "machine_shape": "hm",
      "mount_file_id": "1XxiUytKo6ETjomYNzF_n7cFZdu1lvNdq",
      "authorship_tag": "ABX9TyOLBF6uZN2XE5IygDhmjCTt",
      "include_colab_link": true
    },
    "kernelspec": {
      "display_name": "Python 3",
      "name": "python3"
    },
    "language_info": {
      "name": "python"
    }
  },
  "cells": [
    {
      "cell_type": "markdown",
      "metadata": {
        "id": "view-in-github",
        "colab_type": "text"
      },
      "source": [
        "<a href=\"https://colab.research.google.com/github/Mengzhe/FreddieMacMortgageProject/blob/main/step1_filter_terminated_mortgages.ipynb\" target=\"_parent\"><img src=\"https://colab.research.google.com/assets/colab-badge.svg\" alt=\"Open In Colab\"/></a>"
      ]
    },
    {
      "cell_type": "markdown",
      "metadata": {
        "id": "LSRWzYxglyL7"
      },
      "source": [
        "## Download data"
      ]
    },
    {
      "cell_type": "code",
      "metadata": {
        "id": "qOzKFCORITc3"
      },
      "source": [
        "import os"
      ],
      "execution_count": null,
      "outputs": []
    },
    {
      "cell_type": "code",
      "metadata": {
        "colab": {
          "base_uri": "https://localhost:8080/"
        },
        "id": "8nwmWmGTM5wf",
        "outputId": "64f1abc1-fe3c-4c17-b500-a016d8698b86"
      },
      "source": [
        "!unzip -o \"/content/drive/MyDrive/Colab Notebooks/FreddieMac/FreddieMac/dataset_full/historical_data_2011.zip\"\n",
        "!unzip -o \"/content/drive/MyDrive/Colab Notebooks/FreddieMac/FreddieMac/dataset_full/historical_data_2012.zip\"\n",
        "!unzip -o \"/content/drive/MyDrive/Colab Notebooks/FreddieMac/FreddieMac/dataset_full/historical_data_2013.zip\"\n",
        "!unzip -o \"/content/drive/MyDrive/Colab Notebooks/FreddieMac/FreddieMac/dataset_full/historical_data_2014.zip\"\n",
        "!unzip -o \"/content/drive/MyDrive/Colab Notebooks/FreddieMac/FreddieMac/dataset_full/historical_data_2015.zip\"\n",
        "!unzip -o \"/content/drive/MyDrive/Colab Notebooks/FreddieMac/FreddieMac/dataset_full/historical_data_2016.zip\"\n",
        "!unzip -o \"/content/drive/MyDrive/Colab Notebooks/FreddieMac/FreddieMac/dataset_full/historical_data_2017.zip\"\n",
        "!unzip -o \"/content/drive/MyDrive/Colab Notebooks/FreddieMac/FreddieMac/dataset_full/historical_data_2018.zip\"\n",
        "!unzip -o \"/content/drive/MyDrive/Colab Notebooks/FreddieMac/FreddieMac/dataset_full/historical_data_2019.zip\"\n",
        "\n",
        "!unzip -o \"*.zip\""
      ],
      "execution_count": null,
      "outputs": [
        {
          "output_type": "stream",
          "text": [
            "Archive:  /content/drive/MyDrive/Colab Notebooks/FreddieMac/FreddieMac/dataset_full/historical_data_2011.zip\n",
            " extracting: historical_data_2011Q1.zip  \n",
            " extracting: historical_data_2011Q2.zip  \n",
            " extracting: historical_data_2011Q3.zip  \n",
            " extracting: historical_data_2011Q4.zip  \n",
            "Archive:  /content/drive/MyDrive/Colab Notebooks/FreddieMac/FreddieMac/dataset_full/historical_data_2012.zip\n",
            " extracting: historical_data_2012Q1.zip  \n",
            " extracting: historical_data_2012Q2.zip  \n",
            " extracting: historical_data_2012Q3.zip  \n",
            " extracting: historical_data_2012Q4.zip  \n",
            "Archive:  /content/drive/MyDrive/Colab Notebooks/FreddieMac/FreddieMac/dataset_full/historical_data_2013.zip\n",
            " extracting: historical_data_2013Q1.zip  \n",
            " extracting: historical_data_2013Q2.zip  \n",
            " extracting: historical_data_2013Q3.zip  \n",
            " extracting: historical_data_2013Q4.zip  \n",
            "Archive:  /content/drive/MyDrive/Colab Notebooks/FreddieMac/FreddieMac/dataset_full/historical_data_2014.zip\n",
            " extracting: historical_data_2014Q1.zip  \n",
            " extracting: historical_data_2014Q2.zip  \n",
            " extracting: historical_data_2014Q3.zip  \n",
            " extracting: historical_data_2014Q4.zip  \n",
            "Archive:  /content/drive/MyDrive/Colab Notebooks/FreddieMac/FreddieMac/dataset_full/historical_data_2015.zip\n",
            " extracting: historical_data_2015Q1.zip  \n",
            " extracting: historical_data_2015Q2.zip  \n",
            " extracting: historical_data_2015Q3.zip  \n",
            " extracting: historical_data_2015Q4.zip  \n",
            "Archive:  /content/drive/MyDrive/Colab Notebooks/FreddieMac/FreddieMac/dataset_full/historical_data_2016.zip\n",
            " extracting: historical_data_2016Q1.zip  \n",
            " extracting: historical_data_2016Q2.zip  \n",
            " extracting: historical_data_2016Q3.zip  \n",
            " extracting: historical_data_2016Q4.zip  \n",
            "Archive:  /content/drive/MyDrive/Colab Notebooks/FreddieMac/FreddieMac/dataset_full/historical_data_2017.zip\n",
            " extracting: historical_data_2017Q1.zip  \n",
            " extracting: historical_data_2017Q2.zip  \n",
            " extracting: historical_data_2017Q3.zip  \n",
            " extracting: historical_data_2017Q4.zip  \n",
            "Archive:  /content/drive/MyDrive/Colab Notebooks/FreddieMac/FreddieMac/dataset_full/historical_data_2018.zip\n",
            " extracting: historical_data_2018Q1.zip  \n",
            " extracting: historical_data_2018Q2.zip  \n",
            " extracting: historical_data_2018Q3.zip  \n",
            " extracting: historical_data_2018Q4.zip  \n",
            "Archive:  /content/drive/MyDrive/Colab Notebooks/FreddieMac/FreddieMac/dataset_full/historical_data_2019.zip\n",
            " extracting: historical_data_2019Q1.zip  \n",
            " extracting: historical_data_2019Q2.zip  \n",
            " extracting: historical_data_2019Q3.zip  \n",
            " extracting: historical_data_2019Q4.zip  \n",
            "Archive:  historical_data_2016Q2.zip\n",
            "  inflating: historical_data_2016Q2.txt  \n",
            "  inflating: historical_data_time_2016Q2.txt  \n",
            "\n",
            "Archive:  historical_data_2017Q4.zip\n",
            "  inflating: historical_data_2017Q4.txt  \n",
            "  inflating: historical_data_time_2017Q4.txt  \n",
            "\n",
            "Archive:  historical_data_2019Q1.zip\n",
            "  inflating: historical_data_2019Q1.txt  \n",
            "  inflating: historical_data_time_2019Q1.txt  \n",
            "\n",
            "Archive:  historical_data_2015Q4.zip\n",
            "  inflating: historical_data_2015Q4.txt  \n",
            "  inflating: historical_data_time_2015Q4.txt  \n",
            "\n",
            "Archive:  historical_data_2019Q4.zip\n",
            "  inflating: historical_data_2019Q4.txt  \n",
            "  inflating: historical_data_time_2019Q4.txt  \n",
            "\n",
            "Archive:  historical_data_2013Q3.zip\n",
            "  inflating: historical_data_2013Q3.txt  \n",
            "  inflating: historical_data_time_2013Q3.txt  \n",
            "\n",
            "Archive:  historical_data_2019Q3.zip\n",
            "  inflating: historical_data_2019Q3.txt  \n",
            "  inflating: historical_data_time_2019Q3.txt  \n",
            "\n",
            "Archive:  historical_data_2018Q4.zip\n",
            "  inflating: historical_data_2018Q4.txt  \n",
            "  inflating: historical_data_time_2018Q4.txt  \n",
            "\n",
            "Archive:  historical_data_2016Q3.zip\n",
            "  inflating: historical_data_2016Q3.txt  \n",
            "  inflating: historical_data_time_2016Q3.txt  \n",
            "\n",
            "Archive:  historical_data_2012Q2.zip\n",
            "  inflating: historical_data_2012Q2.txt  \n",
            "  inflating: historical_data_time_2012Q2.txt  \n",
            "\n",
            "Archive:  historical_data_2015Q1.zip\n",
            "  inflating: historical_data_2015Q1.txt  \n",
            "  inflating: historical_data_time_2015Q1.txt  \n",
            "\n",
            "Archive:  historical_data_2014Q2.zip\n",
            "  inflating: historical_data_2014Q2.txt  \n",
            "  inflating: historical_data_time_2014Q2.txt  \n",
            "\n",
            "Archive:  historical_data_2015Q3.zip\n",
            "  inflating: historical_data_2015Q3.txt  \n",
            "  inflating: historical_data_time_2015Q3.txt  \n",
            "\n",
            "Archive:  historical_data_2018Q2.zip\n",
            "  inflating: historical_data_2018Q2.txt  \n",
            "  inflating: historical_data_time_2018Q2.txt  \n",
            "\n",
            "Archive:  historical_data_2015Q2.zip\n",
            "  inflating: historical_data_2015Q2.txt  \n",
            "  inflating: historical_data_time_2015Q2.txt  \n",
            "\n",
            "Archive:  historical_data_2014Q4.zip\n",
            "  inflating: historical_data_2014Q4.txt  \n",
            "  inflating: historical_data_time_2014Q4.txt  \n",
            "\n",
            "Archive:  historical_data_2017Q3.zip\n",
            "  inflating: historical_data_2017Q3.txt  \n",
            "  inflating: historical_data_time_2017Q3.txt  \n",
            "\n",
            "Archive:  historical_data_2018Q1.zip\n",
            "  inflating: historical_data_2018Q1.txt  \n",
            "  inflating: historical_data_time_2018Q1.txt  \n",
            "\n",
            "Archive:  historical_data_2011Q4.zip\n",
            "  inflating: historical_data_2011Q4.txt  \n",
            "  inflating: historical_data_time_2011Q4.txt  \n",
            "\n",
            "Archive:  historical_data_2012Q1.zip\n",
            "  inflating: historical_data_2012Q1.txt  \n",
            "  inflating: historical_data_time_2012Q1.txt  \n",
            "\n",
            "Archive:  historical_data_2019Q2.zip\n",
            "  inflating: historical_data_2019Q2.txt  \n",
            "  inflating: historical_data_time_2019Q2.txt  \n",
            "\n",
            "Archive:  historical_data_2011Q1.zip\n",
            "  inflating: historical_data_2011Q1.txt  \n",
            "  inflating: historical_data_time_2011Q1.txt  \n",
            "\n",
            "Archive:  historical_data_2012Q3.zip\n",
            "  inflating: historical_data_2012Q3.txt  \n",
            "  inflating: historical_data_time_2012Q3.txt  \n",
            "\n",
            "Archive:  historical_data_2011Q2.zip\n",
            "  inflating: historical_data_2011Q2.txt  \n",
            "  inflating: historical_data_time_2011Q2.txt  \n",
            "\n",
            "Archive:  historical_data_2017Q2.zip\n",
            "  inflating: historical_data_2017Q2.txt  \n",
            "  inflating: historical_data_time_2017Q2.txt  \n",
            "\n",
            "Archive:  historical_data_2013Q4.zip\n",
            "  inflating: historical_data_2013Q4.txt  \n",
            "  inflating: historical_data_time_2013Q4.txt  \n",
            "\n",
            "Archive:  historical_data_2014Q3.zip\n",
            "  inflating: historical_data_2014Q3.txt  \n",
            "  inflating: historical_data_time_2014Q3.txt  \n",
            "\n",
            "Archive:  historical_data_2016Q4.zip\n",
            "  inflating: historical_data_2016Q4.txt  \n",
            "  inflating: historical_data_time_2016Q4.txt  \n",
            "\n",
            "Archive:  historical_data_2016Q1.zip\n",
            "  inflating: historical_data_2016Q1.txt  \n",
            "  inflating: historical_data_time_2016Q1.txt  \n",
            "\n",
            "Archive:  historical_data_2013Q2.zip\n",
            "  inflating: historical_data_2013Q2.txt  \n",
            "  inflating: historical_data_time_2013Q2.txt  \n",
            "\n",
            "Archive:  historical_data_2013Q1.zip\n",
            "  inflating: historical_data_2013Q1.txt  \n",
            "  inflating: historical_data_time_2013Q1.txt  \n",
            "\n",
            "Archive:  historical_data_2012Q4.zip\n",
            "  inflating: historical_data_2012Q4.txt  \n",
            "  inflating: historical_data_time_2012Q4.txt  \n",
            "\n",
            "Archive:  historical_data_2014Q1.zip\n",
            "  inflating: historical_data_2014Q1.txt  \n",
            "  inflating: historical_data_time_2014Q1.txt  \n",
            "\n",
            "Archive:  historical_data_2017Q1.zip\n",
            "  inflating: historical_data_2017Q1.txt  \n",
            "  inflating: historical_data_time_2017Q1.txt  \n",
            "\n",
            "Archive:  historical_data_2011Q3.zip\n",
            "  inflating: historical_data_2011Q3.txt  \n",
            "  inflating: historical_data_time_2011Q3.txt  \n",
            "\n",
            "Archive:  historical_data_2018Q3.zip\n",
            "  inflating: historical_data_2018Q3.txt  \n",
            "  inflating: historical_data_time_2018Q3.txt  \n",
            "\n",
            "36 archives were successfully processed.\n"
          ],
          "name": "stdout"
        }
      ]
    },
    {
      "cell_type": "markdown",
      "metadata": {
        "id": "HUMebS3AJsBZ"
      },
      "source": [
        "## Import libraries"
      ]
    },
    {
      "cell_type": "code",
      "metadata": {
        "id": "7w_bdQhZIrVz",
        "colab": {
          "base_uri": "https://localhost:8080/"
        },
        "outputId": "6c949c43-da99-43e7-eb5f-2425b83f2c48"
      },
      "source": [
        "import pandas as pd\n",
        "import numpy as np\n",
        "import matplotlib.pyplot as plt\n",
        "import matplotlib as mpl\n",
        "import seaborn as sns\n",
        "\n",
        "%matplotlib inline\n",
        "\n",
        "import sklearn\n",
        "from sklearn.preprocessing import MinMaxScaler, LabelEncoder\n",
        "from sklearn.metrics import (confusion_matrix, \n",
        "                             roc_auc_score, \n",
        "                             average_precision_score)\n",
        "from sklearn.model_selection import cross_val_score\n",
        "\n",
        "from imblearn.under_sampling import RandomUnderSampler\n",
        "\n",
        "import tensorflow as tf\n",
        "from tensorflow import keras\n",
        "\n",
        "from tensorflow.keras.models import Sequential\n",
        "from tensorflow.keras.layers import Dense, Dropout, Activation\n",
        "from tensorflow.keras.constraints import max_norm\n",
        "from tensorflow.keras.optimizers import Adam\n",
        "from tensorflow.keras.callbacks import EarlyStopping\n",
        "from tensorflow.keras.models import load_model\n",
        "\n",
        "import lightgbm as lgb\n",
        "import xgboost as xgb\n",
        "from sklearn.model_selection import GridSearchCV\n",
        "from sklearn.linear_model import LogisticRegression\n",
        "import joblib\n",
        "\n",
        "# import shap\n",
        "import warnings\n",
        "import time\n",
        "warnings.filterwarnings(\"ignore\")\n",
        "\n",
        "import json\n",
        "from collections import defaultdict\n",
        "\n",
        "from datetime import datetime\n",
        "import pytz\n",
        "from datetime import date\n",
        "\n",
        "# from bayes_opt import BayesianOptimization\n",
        "\n",
        "# trained_model_folder_path = \"/content/drive/MyDrive/Colab Notebooks/Kaggle/LendingClub/trained_models/\""
      ],
      "execution_count": null,
      "outputs": [
        {
          "output_type": "stream",
          "text": [
            "/usr/local/lib/python3.7/dist-packages/sklearn/externals/six.py:31: FutureWarning: The module is deprecated in version 0.21 and will be removed in version 0.23 since we've dropped support for Python 2.7. Please rely on the official version of six (https://pypi.org/project/six/).\n",
            "  \"(https://pypi.org/project/six/).\", FutureWarning)\n",
            "/usr/local/lib/python3.7/dist-packages/sklearn/utils/deprecation.py:144: FutureWarning: The sklearn.neighbors.base module is  deprecated in version 0.22 and will be removed in version 0.24. The corresponding classes / functions should instead be imported from sklearn.neighbors. Anything that cannot be imported from sklearn.neighbors is now part of the private API.\n",
            "  warnings.warn(message, FutureWarning)\n"
          ],
          "name": "stderr"
        }
      ]
    },
    {
      "cell_type": "markdown",
      "metadata": {
        "id": "PWCwJSJDRqpX"
      },
      "source": [
        "## Load Monthly Performance Data\n",
        "Use zero balance code to filter data"
      ]
    },
    {
      "cell_type": "code",
      "metadata": {
        "id": "QGnryI40b93k"
      },
      "source": [
        "years = range(2011, 2020)"
      ],
      "execution_count": null,
      "outputs": []
    },
    {
      "cell_type": "code",
      "metadata": {
        "id": "xv-sFPrdRvAC"
      },
      "source": [
        "df_data_dict_monthly = pd.read_excel('/content/drive/MyDrive/Colab Notebooks/FreddieMac/file_layout.xlsx', \n",
        "                             sheet_name='Monthly Performance Data File', \n",
        "                             header=1)\n",
        "\n",
        "columns_rename_mapper_monthly = {'Estimated Loan-to-Value (ELTV)': 'est_ltv',\n",
        "                                'Monthly Reporting Period': 'rep_period',\n",
        "                                # 'Current Deferred UPB': 'deferred_upb', \n",
        "                                'Current Interest Rate': 'int_rate', \n",
        "                                'Remaining Months to Legal Maturity': 'remaining_months', \n",
        "                                'Loan Age': 'loan_age', \n",
        "                                'Current Loan Delinquency Status': 'loan_status', \n",
        "                                'Current Actual UPB': 'actual_upb', \n",
        "                                'Loan Sequence Number': 'loan_id', \n",
        "                                #  'Repurchase Flag': 'repur_flag', \n",
        "                                #  'Modification Flag': 'mod_flag', \n",
        "                                 'Zero Balance Code': 'zero_bal_code', \n",
        "                                #  'Zero Balance Effective Date': 'zero_bal_d', \n",
        "                                #  'Due Date of Last Paid Installment (DDLPI)': 'ddlpi',\n",
        "                                 'Delinquency Due to Disaster': 'delq_by_disaster',\n",
        "                                }\n",
        "\n",
        "\n",
        "cols_to_del = ['Non MI Recoveries', 'Net Sales Proceeds', \n",
        "                'Delinquent Accrued Interest', 'Actual Loss Calculation',\n",
        "                'Miscellaneous Expenses', 'Taxes and Insurance', \n",
        "                'Maintenance and Preservation Costs', 'Legal Costs', \n",
        "                'Expenses', 'MI Recoveries', 'Step Modification Flag', \n",
        "                'Modification Flag', 'Deferred Payment Plan', 'Modification Cost', \n",
        "                'Current Month Modification Cost', 'Borrower Assistance Status Code',\n",
        "                'Due Date of Last Paid Installment (DDLPI)', \n",
        "                'Repurchase Flag', 'Zero Balance Removal UPB', \n",
        "                'Zero Balance Effective Date', \n",
        "            #  'Zero Balance Code',\n",
        "                'Current Deferred UPB',\n",
        "                ]"
      ],
      "execution_count": null,
      "outputs": []
    },
    {
      "cell_type": "code",
      "metadata": {
        "colab": {
          "base_uri": "https://localhost:8080/"
        },
        "id": "H9ISDA2uSQAU",
        "outputId": "eef8d782-2b31-49e3-9098-1265a343b4e1"
      },
      "source": [
        "%%time\n",
        "np.random.seed(0)\n",
        "selected_loan_idxes_paid = set()\n",
        "selected_loan_idxes_charged = set()\n",
        "df_list = []\n",
        "path_monthly_data = 'historical_data_time_{0}Q{1}.txt'\n",
        "for year in years:\n",
        "    for q in range(1, 5):\n",
        "        path = path_monthly_data.format(year, q)\n",
        "        print(path)\n",
        "        df_m = pd.read_csv(path, \n",
        "                        sep='|', \n",
        "                        header=None, \n",
        "                        names=df_data_dict_monthly['ATTRIBUTE NAME'].values)\n",
        "        \n",
        "        selected_charged = set(df_m.loc[df_m['Zero Balance Code'].isin([2.0, 3.0, 9.0]), 'Loan Sequence Number'].values.tolist())\n",
        "        q_loan_idxes_paid = df_m.loc[df_m['Zero Balance Code']==1.0, 'Loan Sequence Number'].values.tolist()\n",
        "        selected_paid = np.random.choice(q_loan_idxes_paid, \n",
        "                                         len(selected_charged), \n",
        "                                         replace=False)\n",
        "        selected_paid = set(selected_paid)\n",
        "\n",
        "        selected_loan_idxes_paid.update(selected_paid)\n",
        "        selected_loan_idxes_charged.update(selected_charged)\n",
        "\n",
        "        df_list.append(df_m.loc[df_m['Loan Sequence Number'].isin(selected_paid), :])\n",
        "        df_list.append(df_m.loc[df_m['Loan Sequence Number'].isin(selected_charged), :])\n",
        "\n",
        "        del df_m\n",
        "\n",
        "print(\"len(selected_loan_idxes_paid)\", len(selected_loan_idxes_paid))\n",
        "print(\"len(selected_loan_idxes_charged)\", len(selected_loan_idxes_charged))\n",
        "print('total selected loan indexes', len(selected_loan_idxes_paid)+len(selected_loan_idxes_charged))\n",
        "\n",
        "df_monthly = pd.concat(df_list, ignore_index=True)\n",
        "df_monthly.rename(columns=columns_rename_mapper_monthly, inplace=True)\n",
        "df_monthly.drop(columns=cols_to_del, inplace=True)\n",
        "# df_monthly.head()"
      ],
      "execution_count": null,
      "outputs": [
        {
          "output_type": "stream",
          "text": [
            "historical_data_time_2011Q1.txt\n",
            "historical_data_time_2011Q2.txt\n",
            "historical_data_time_2011Q3.txt\n",
            "historical_data_time_2011Q4.txt\n",
            "historical_data_time_2012Q1.txt\n",
            "historical_data_time_2012Q2.txt\n",
            "historical_data_time_2012Q3.txt\n",
            "historical_data_time_2012Q4.txt\n",
            "historical_data_time_2013Q1.txt\n",
            "historical_data_time_2013Q2.txt\n",
            "historical_data_time_2013Q3.txt\n",
            "historical_data_time_2013Q4.txt\n",
            "historical_data_time_2014Q1.txt\n",
            "historical_data_time_2014Q2.txt\n",
            "historical_data_time_2014Q3.txt\n",
            "historical_data_time_2014Q4.txt\n",
            "historical_data_time_2015Q1.txt\n",
            "historical_data_time_2015Q2.txt\n",
            "historical_data_time_2015Q3.txt\n",
            "historical_data_time_2015Q4.txt\n",
            "historical_data_time_2016Q1.txt\n",
            "historical_data_time_2016Q2.txt\n",
            "historical_data_time_2016Q3.txt\n",
            "historical_data_time_2016Q4.txt\n",
            "historical_data_time_2017Q1.txt\n",
            "historical_data_time_2017Q2.txt\n",
            "historical_data_time_2017Q3.txt\n",
            "historical_data_time_2017Q4.txt\n",
            "historical_data_time_2018Q1.txt\n",
            "historical_data_time_2018Q2.txt\n",
            "historical_data_time_2018Q3.txt\n",
            "historical_data_time_2018Q4.txt\n",
            "historical_data_time_2019Q1.txt\n",
            "historical_data_time_2019Q2.txt\n",
            "historical_data_time_2019Q3.txt\n",
            "historical_data_time_2019Q4.txt\n",
            "len(selected_loan_idxes_paid) 36813\n",
            "len(selected_loan_idxes_charged) 36813\n",
            "total selected loan indexes 73626\n",
            "CPU times: user 18min 54s, sys: 3min 28s, total: 22min 23s\n",
            "Wall time: 23min\n"
          ],
          "name": "stdout"
        }
      ]
    },
    {
      "cell_type": "code",
      "metadata": {
        "colab": {
          "base_uri": "https://localhost:8080/"
        },
        "id": "hJvCv6I-kFtk",
        "outputId": "b953978a-11e8-46db-d4e2-595bcd629131"
      },
      "source": [
        "df_monthly.shape"
      ],
      "execution_count": null,
      "outputs": [
        {
          "output_type": "execute_result",
          "data": {
            "text/plain": [
              "(3405145, 10)"
            ]
          },
          "metadata": {
            "tags": []
          },
          "execution_count": 7
        }
      ]
    },
    {
      "cell_type": "code",
      "metadata": {
        "colab": {
          "base_uri": "https://localhost:8080/"
        },
        "id": "CLBNjumdkYMv",
        "outputId": "f963fa20-cc32-42ee-9555-59d55ea650df"
      },
      "source": [
        "df_monthly.head(10)"
      ],
      "execution_count": null,
      "outputs": [
        {
          "output_type": "execute_result",
          "data": {
            "text/html": [
              "<div>\n",
              "<style scoped>\n",
              "    .dataframe tbody tr th:only-of-type {\n",
              "        vertical-align: middle;\n",
              "    }\n",
              "\n",
              "    .dataframe tbody tr th {\n",
              "        vertical-align: top;\n",
              "    }\n",
              "\n",
              "    .dataframe thead th {\n",
              "        text-align: right;\n",
              "    }\n",
              "</style>\n",
              "<table border=\"1\" class=\"dataframe\">\n",
              "  <thead>\n",
              "    <tr style=\"text-align: right;\">\n",
              "      <th></th>\n",
              "      <th>loan_id</th>\n",
              "      <th>rep_period</th>\n",
              "      <th>actual_upb</th>\n",
              "      <th>loan_status</th>\n",
              "      <th>loan_age</th>\n",
              "      <th>remaining_months</th>\n",
              "      <th>zero_bal_code</th>\n",
              "      <th>int_rate</th>\n",
              "      <th>est_ltv</th>\n",
              "      <th>delq_by_disaster</th>\n",
              "    </tr>\n",
              "  </thead>\n",
              "  <tbody>\n",
              "    <tr>\n",
              "      <th>0</th>\n",
              "      <td>F11Q10000307</td>\n",
              "      <td>201102</td>\n",
              "      <td>87000.00</td>\n",
              "      <td>0</td>\n",
              "      <td>0</td>\n",
              "      <td>180</td>\n",
              "      <td>NaN</td>\n",
              "      <td>3.5</td>\n",
              "      <td>NaN</td>\n",
              "      <td>NaN</td>\n",
              "    </tr>\n",
              "    <tr>\n",
              "      <th>1</th>\n",
              "      <td>F11Q10000307</td>\n",
              "      <td>201103</td>\n",
              "      <td>87000.00</td>\n",
              "      <td>0</td>\n",
              "      <td>1</td>\n",
              "      <td>179</td>\n",
              "      <td>NaN</td>\n",
              "      <td>3.5</td>\n",
              "      <td>NaN</td>\n",
              "      <td>NaN</td>\n",
              "    </tr>\n",
              "    <tr>\n",
              "      <th>2</th>\n",
              "      <td>F11Q10000307</td>\n",
              "      <td>201104</td>\n",
              "      <td>86000.00</td>\n",
              "      <td>0</td>\n",
              "      <td>2</td>\n",
              "      <td>178</td>\n",
              "      <td>NaN</td>\n",
              "      <td>3.5</td>\n",
              "      <td>NaN</td>\n",
              "      <td>NaN</td>\n",
              "    </tr>\n",
              "    <tr>\n",
              "      <th>3</th>\n",
              "      <td>F11Q10000307</td>\n",
              "      <td>201105</td>\n",
              "      <td>86000.00</td>\n",
              "      <td>0</td>\n",
              "      <td>3</td>\n",
              "      <td>177</td>\n",
              "      <td>NaN</td>\n",
              "      <td>3.5</td>\n",
              "      <td>NaN</td>\n",
              "      <td>NaN</td>\n",
              "    </tr>\n",
              "    <tr>\n",
              "      <th>4</th>\n",
              "      <td>F11Q10000307</td>\n",
              "      <td>201106</td>\n",
              "      <td>86000.00</td>\n",
              "      <td>0</td>\n",
              "      <td>4</td>\n",
              "      <td>176</td>\n",
              "      <td>NaN</td>\n",
              "      <td>3.5</td>\n",
              "      <td>NaN</td>\n",
              "      <td>NaN</td>\n",
              "    </tr>\n",
              "    <tr>\n",
              "      <th>5</th>\n",
              "      <td>F11Q10000307</td>\n",
              "      <td>201107</td>\n",
              "      <td>85000.00</td>\n",
              "      <td>0</td>\n",
              "      <td>5</td>\n",
              "      <td>175</td>\n",
              "      <td>NaN</td>\n",
              "      <td>3.5</td>\n",
              "      <td>NaN</td>\n",
              "      <td>NaN</td>\n",
              "    </tr>\n",
              "    <tr>\n",
              "      <th>6</th>\n",
              "      <td>F11Q10000307</td>\n",
              "      <td>201108</td>\n",
              "      <td>85000.00</td>\n",
              "      <td>0</td>\n",
              "      <td>6</td>\n",
              "      <td>174</td>\n",
              "      <td>NaN</td>\n",
              "      <td>3.5</td>\n",
              "      <td>NaN</td>\n",
              "      <td>NaN</td>\n",
              "    </tr>\n",
              "    <tr>\n",
              "      <th>7</th>\n",
              "      <td>F11Q10000307</td>\n",
              "      <td>201109</td>\n",
              "      <td>84399.95</td>\n",
              "      <td>0</td>\n",
              "      <td>7</td>\n",
              "      <td>173</td>\n",
              "      <td>NaN</td>\n",
              "      <td>3.5</td>\n",
              "      <td>NaN</td>\n",
              "      <td>NaN</td>\n",
              "    </tr>\n",
              "    <tr>\n",
              "      <th>8</th>\n",
              "      <td>F11Q10000307</td>\n",
              "      <td>201110</td>\n",
              "      <td>84024.17</td>\n",
              "      <td>0</td>\n",
              "      <td>8</td>\n",
              "      <td>172</td>\n",
              "      <td>NaN</td>\n",
              "      <td>3.5</td>\n",
              "      <td>NaN</td>\n",
              "      <td>NaN</td>\n",
              "    </tr>\n",
              "    <tr>\n",
              "      <th>9</th>\n",
              "      <td>F11Q10000307</td>\n",
              "      <td>201111</td>\n",
              "      <td>83647.29</td>\n",
              "      <td>0</td>\n",
              "      <td>9</td>\n",
              "      <td>171</td>\n",
              "      <td>NaN</td>\n",
              "      <td>3.5</td>\n",
              "      <td>NaN</td>\n",
              "      <td>NaN</td>\n",
              "    </tr>\n",
              "  </tbody>\n",
              "</table>\n",
              "</div>"
            ],
            "text/plain": [
              "        loan_id  rep_period  actual_upb  ... int_rate  est_ltv  delq_by_disaster\n",
              "0  F11Q10000307      201102    87000.00  ...      3.5      NaN               NaN\n",
              "1  F11Q10000307      201103    87000.00  ...      3.5      NaN               NaN\n",
              "2  F11Q10000307      201104    86000.00  ...      3.5      NaN               NaN\n",
              "3  F11Q10000307      201105    86000.00  ...      3.5      NaN               NaN\n",
              "4  F11Q10000307      201106    86000.00  ...      3.5      NaN               NaN\n",
              "5  F11Q10000307      201107    85000.00  ...      3.5      NaN               NaN\n",
              "6  F11Q10000307      201108    85000.00  ...      3.5      NaN               NaN\n",
              "7  F11Q10000307      201109    84399.95  ...      3.5      NaN               NaN\n",
              "8  F11Q10000307      201110    84024.17  ...      3.5      NaN               NaN\n",
              "9  F11Q10000307      201111    83647.29  ...      3.5      NaN               NaN\n",
              "\n",
              "[10 rows x 10 columns]"
            ]
          },
          "metadata": {
            "tags": []
          },
          "execution_count": 8
        }
      ]
    },
    {
      "cell_type": "markdown",
      "metadata": {
        "id": "cvvvFV7SJxer"
      },
      "source": [
        "## Load origination data"
      ]
    },
    {
      "cell_type": "code",
      "metadata": {
        "id": "5wy2Av_sN1Az"
      },
      "source": [
        "## data dictionary\n",
        "df_data_dict_orig = pd.read_excel('/content/drive/MyDrive/Colab Notebooks/FreddieMac/file_layout.xlsx', \n",
        "                             sheet_name='Origination Data File', \n",
        "                             header=1)\n"
      ],
      "execution_count": null,
      "outputs": []
    },
    {
      "cell_type": "code",
      "metadata": {
        "colab": {
          "base_uri": "https://localhost:8080/"
        },
        "id": "0RwytykYO40L",
        "outputId": "9737f077-3906-46a4-d98c-5d391c059500"
      },
      "source": [
        "%%time\n",
        "np.random.seed(0)\n",
        "df_list = []\n",
        "path_orig_data = 'historical_data_{0}Q{1}.txt'\n",
        "for year in years:\n",
        "    for q in range(1, 5):\n",
        "        path = path_orig_data.format(year, q)\n",
        "        print(path)\n",
        "        df_o = pd.read_csv(path, \n",
        "                        sep='|', \n",
        "                        header=None, \n",
        "                        names=df_data_dict_orig['ATTRIBUTE NAME'].values)\n",
        "        df_paid = df_o.loc[df_o['Loan Sequence Number'].isin(selected_loan_idxes_paid), :].reset_index(drop=True)\n",
        "        df_charged = df_o.loc[df_o['Loan Sequence Number'].isin(selected_loan_idxes_charged), :].reset_index(drop=True)\n",
        "        df_list.append(df_paid)\n",
        "        df_list.append(df_charged)\n",
        "\n",
        "df_orig = pd.concat(df_list, ignore_index=True)\n",
        "# df_orig.head()"
      ],
      "execution_count": null,
      "outputs": [
        {
          "output_type": "stream",
          "text": [
            "historical_data_2011Q1.txt\n",
            "historical_data_2011Q2.txt\n",
            "historical_data_2011Q3.txt\n",
            "historical_data_2011Q4.txt\n",
            "historical_data_2012Q1.txt\n",
            "historical_data_2012Q2.txt\n",
            "historical_data_2012Q3.txt\n",
            "historical_data_2012Q4.txt\n",
            "historical_data_2013Q1.txt\n",
            "historical_data_2013Q2.txt\n",
            "historical_data_2013Q3.txt\n",
            "historical_data_2013Q4.txt\n",
            "historical_data_2014Q1.txt\n",
            "historical_data_2014Q2.txt\n",
            "historical_data_2014Q3.txt\n",
            "historical_data_2014Q4.txt\n",
            "historical_data_2015Q1.txt\n",
            "historical_data_2015Q2.txt\n",
            "historical_data_2015Q3.txt\n",
            "historical_data_2015Q4.txt\n",
            "historical_data_2016Q1.txt\n",
            "historical_data_2016Q2.txt\n",
            "historical_data_2016Q3.txt\n",
            "historical_data_2016Q4.txt\n",
            "historical_data_2017Q1.txt\n",
            "historical_data_2017Q2.txt\n",
            "historical_data_2017Q3.txt\n",
            "historical_data_2017Q4.txt\n",
            "historical_data_2018Q1.txt\n",
            "historical_data_2018Q2.txt\n",
            "historical_data_2018Q3.txt\n",
            "historical_data_2018Q4.txt\n",
            "historical_data_2019Q1.txt\n",
            "historical_data_2019Q2.txt\n",
            "historical_data_2019Q3.txt\n",
            "historical_data_2019Q4.txt\n",
            "CPU times: user 47.6 s, sys: 2.35 s, total: 49.9 s\n",
            "Wall time: 51.7 s\n"
          ],
          "name": "stdout"
        }
      ]
    },
    {
      "cell_type": "code",
      "metadata": {
        "id": "WccqxEhxNj1N"
      },
      "source": [
        "columns_rename_mapper_orig = {\n",
        "                                 'Loan Sequence Number': 'loan_id', \n",
        "                                 'Credit Score': 'o_credit_score', \n",
        "                                 'Property Valuation Method': 'o_pt_val_md', \n",
        "                                 'Number of Borrowers': 'o_num_brwrs',\n",
        "                                 'Original Loan Term': 'o_term', \n",
        "                                 'Loan Purpose': 'o_purp',\n",
        "                                 'Postal Code': 'o_zip',\n",
        "                                 'Maturity Date': 'o_mat_d',\n",
        "                                 'Property Type': 'o_prop_type', \n",
        "                                 'Property State': 'o_prop_st',\n",
        "                                 'Original Interest Rate': 'o_int_rate', \n",
        "                                 'Original Loan-to-Value (LTV)': 'o_ltv',\n",
        "                                 'Original UPB': 'o_upb', \n",
        "                                 'Original Debt-to-Income (DTI) Ratio': 'o_dti', \n",
        "                                 'Original Combined Loan-to-Value (CLTV)': 'o_cltv', \n",
        "                                 'Occupancy Status': 'o_occ_stat',\n",
        "                                 'Number of Units': 'o_units', \n",
        "                                 'Mortgage Insurance Percentage (MI %)': 'o_mi',\n",
        "                                 'First Time Homebuyer Flag': 'o_first_flag',\n",
        "                                 'Interest Only (I/O) Indicator': 'o_int_only', \n",
        "                                 'Prepayment Penalty Mortgage (PPM) Flag': 'o_ppm', \n",
        "                                 'Super Conforming Flag': 'o_sp_cnfm', \n",
        "                                 'Program Indicator': 'o_prgm_ind',\n",
        "                                 'Amortization Type (Formerly Product Type)': 'o_amtz_type', \n",
        "                                 'Metropolitan Statistical Area (MSA) Or Metropolitan Division': 'o_msa', \n",
        "                                 'First Payment Date': 'o_init_pay_d', \n",
        "                                 'Channel': 'o_chan', \n",
        "                                 'HARP Indicator': 'o_harp_ind',\n",
        "                                }\n",
        "\n",
        "\n",
        "## remove HARP loans, since they are not new loans\n",
        "# df_orig = df_orig.loc[df_orig['HARP Indicator']!='Y']\n",
        "df_orig.drop(columns=['Pre-HARP Loan Sequence Number'], inplace=True, errors='ignore')\n",
        "\n",
        "df_orig.drop(columns=['Servicer Name', 'Seller Name'], inplace=True, errors='ignore')\n",
        "# df_orig.drop(columns=['Postal Code'], inplace=True, errors='ignore')\n",
        "\n",
        "# df_orig.rename(columns=columns_rename_mapper_orig, inplace=True, errors='ignore')\n",
        "df_orig.rename(columns=columns_rename_mapper_orig, inplace=True)"
      ],
      "execution_count": null,
      "outputs": []
    },
    {
      "cell_type": "code",
      "metadata": {
        "colab": {
          "base_uri": "https://localhost:8080/"
        },
        "id": "fS6L48k5mdB1",
        "outputId": "c45d7834-7d71-4761-ac97-f0faf7935ddc"
      },
      "source": [
        "df_orig.head()"
      ],
      "execution_count": null,
      "outputs": [
        {
          "output_type": "execute_result",
          "data": {
            "text/html": [
              "<div>\n",
              "<style scoped>\n",
              "    .dataframe tbody tr th:only-of-type {\n",
              "        vertical-align: middle;\n",
              "    }\n",
              "\n",
              "    .dataframe tbody tr th {\n",
              "        vertical-align: top;\n",
              "    }\n",
              "\n",
              "    .dataframe thead th {\n",
              "        text-align: right;\n",
              "    }\n",
              "</style>\n",
              "<table border=\"1\" class=\"dataframe\">\n",
              "  <thead>\n",
              "    <tr style=\"text-align: right;\">\n",
              "      <th></th>\n",
              "      <th>o_credit_score</th>\n",
              "      <th>o_init_pay_d</th>\n",
              "      <th>o_first_flag</th>\n",
              "      <th>o_mat_d</th>\n",
              "      <th>o_msa</th>\n",
              "      <th>o_mi</th>\n",
              "      <th>o_units</th>\n",
              "      <th>o_occ_stat</th>\n",
              "      <th>o_cltv</th>\n",
              "      <th>o_dti</th>\n",
              "      <th>o_upb</th>\n",
              "      <th>o_ltv</th>\n",
              "      <th>o_int_rate</th>\n",
              "      <th>o_chan</th>\n",
              "      <th>o_ppm</th>\n",
              "      <th>o_amtz_type</th>\n",
              "      <th>o_prop_st</th>\n",
              "      <th>o_prop_type</th>\n",
              "      <th>o_zip</th>\n",
              "      <th>loan_id</th>\n",
              "      <th>o_purp</th>\n",
              "      <th>o_term</th>\n",
              "      <th>o_num_brwrs</th>\n",
              "      <th>o_sp_cnfm</th>\n",
              "      <th>o_prgm_ind</th>\n",
              "      <th>o_harp_ind</th>\n",
              "      <th>o_pt_val_md</th>\n",
              "      <th>o_int_only</th>\n",
              "    </tr>\n",
              "  </thead>\n",
              "  <tbody>\n",
              "    <tr>\n",
              "      <th>0</th>\n",
              "      <td>732</td>\n",
              "      <td>201103</td>\n",
              "      <td>9</td>\n",
              "      <td>202602</td>\n",
              "      <td>44300.0</td>\n",
              "      <td>0</td>\n",
              "      <td>1</td>\n",
              "      <td>P</td>\n",
              "      <td>48</td>\n",
              "      <td>36</td>\n",
              "      <td>87000</td>\n",
              "      <td>48</td>\n",
              "      <td>3.500</td>\n",
              "      <td>R</td>\n",
              "      <td>N</td>\n",
              "      <td>FRM</td>\n",
              "      <td>PA</td>\n",
              "      <td>SF</td>\n",
              "      <td>16800</td>\n",
              "      <td>F11Q10000307</td>\n",
              "      <td>N</td>\n",
              "      <td>180</td>\n",
              "      <td>2</td>\n",
              "      <td>NaN</td>\n",
              "      <td>9</td>\n",
              "      <td>NaN</td>\n",
              "      <td>9</td>\n",
              "      <td>N</td>\n",
              "    </tr>\n",
              "    <tr>\n",
              "      <th>1</th>\n",
              "      <td>792</td>\n",
              "      <td>201103</td>\n",
              "      <td>9</td>\n",
              "      <td>202102</td>\n",
              "      <td>47664.0</td>\n",
              "      <td>0</td>\n",
              "      <td>1</td>\n",
              "      <td>P</td>\n",
              "      <td>85</td>\n",
              "      <td>999</td>\n",
              "      <td>159000</td>\n",
              "      <td>85</td>\n",
              "      <td>3.625</td>\n",
              "      <td>R</td>\n",
              "      <td>N</td>\n",
              "      <td>FRM</td>\n",
              "      <td>MI</td>\n",
              "      <td>SF</td>\n",
              "      <td>48300</td>\n",
              "      <td>F11Q10000476</td>\n",
              "      <td>N</td>\n",
              "      <td>120</td>\n",
              "      <td>2</td>\n",
              "      <td>NaN</td>\n",
              "      <td>9</td>\n",
              "      <td>Y</td>\n",
              "      <td>9</td>\n",
              "      <td>N</td>\n",
              "    </tr>\n",
              "    <tr>\n",
              "      <th>2</th>\n",
              "      <td>810</td>\n",
              "      <td>201103</td>\n",
              "      <td>9</td>\n",
              "      <td>202102</td>\n",
              "      <td>24860.0</td>\n",
              "      <td>0</td>\n",
              "      <td>1</td>\n",
              "      <td>P</td>\n",
              "      <td>21</td>\n",
              "      <td>21</td>\n",
              "      <td>32000</td>\n",
              "      <td>21</td>\n",
              "      <td>3.500</td>\n",
              "      <td>R</td>\n",
              "      <td>N</td>\n",
              "      <td>FRM</td>\n",
              "      <td>SC</td>\n",
              "      <td>SF</td>\n",
              "      <td>29300</td>\n",
              "      <td>F11Q10000659</td>\n",
              "      <td>N</td>\n",
              "      <td>120</td>\n",
              "      <td>2</td>\n",
              "      <td>NaN</td>\n",
              "      <td>9</td>\n",
              "      <td>NaN</td>\n",
              "      <td>9</td>\n",
              "      <td>N</td>\n",
              "    </tr>\n",
              "    <tr>\n",
              "      <th>3</th>\n",
              "      <td>766</td>\n",
              "      <td>201103</td>\n",
              "      <td>9</td>\n",
              "      <td>202602</td>\n",
              "      <td>NaN</td>\n",
              "      <td>0</td>\n",
              "      <td>1</td>\n",
              "      <td>P</td>\n",
              "      <td>79</td>\n",
              "      <td>49</td>\n",
              "      <td>230000</td>\n",
              "      <td>79</td>\n",
              "      <td>3.875</td>\n",
              "      <td>R</td>\n",
              "      <td>N</td>\n",
              "      <td>FRM</td>\n",
              "      <td>NY</td>\n",
              "      <td>SF</td>\n",
              "      <td>12100</td>\n",
              "      <td>F11Q10000737</td>\n",
              "      <td>C</td>\n",
              "      <td>180</td>\n",
              "      <td>1</td>\n",
              "      <td>NaN</td>\n",
              "      <td>9</td>\n",
              "      <td>NaN</td>\n",
              "      <td>9</td>\n",
              "      <td>N</td>\n",
              "    </tr>\n",
              "    <tr>\n",
              "      <th>4</th>\n",
              "      <td>741</td>\n",
              "      <td>201104</td>\n",
              "      <td>9</td>\n",
              "      <td>202103</td>\n",
              "      <td>36540.0</td>\n",
              "      <td>0</td>\n",
              "      <td>1</td>\n",
              "      <td>P</td>\n",
              "      <td>47</td>\n",
              "      <td>25</td>\n",
              "      <td>99000</td>\n",
              "      <td>47</td>\n",
              "      <td>3.750</td>\n",
              "      <td>R</td>\n",
              "      <td>N</td>\n",
              "      <td>FRM</td>\n",
              "      <td>NE</td>\n",
              "      <td>SF</td>\n",
              "      <td>68100</td>\n",
              "      <td>F11Q10000875</td>\n",
              "      <td>C</td>\n",
              "      <td>120</td>\n",
              "      <td>2</td>\n",
              "      <td>NaN</td>\n",
              "      <td>9</td>\n",
              "      <td>NaN</td>\n",
              "      <td>9</td>\n",
              "      <td>N</td>\n",
              "    </tr>\n",
              "  </tbody>\n",
              "</table>\n",
              "</div>"
            ],
            "text/plain": [
              "   o_credit_score  o_init_pay_d o_first_flag  ...  o_harp_ind  o_pt_val_md  o_int_only\n",
              "0             732        201103            9  ...         NaN            9           N\n",
              "1             792        201103            9  ...           Y            9           N\n",
              "2             810        201103            9  ...         NaN            9           N\n",
              "3             766        201103            9  ...         NaN            9           N\n",
              "4             741        201104            9  ...         NaN            9           N\n",
              "\n",
              "[5 rows x 28 columns]"
            ]
          },
          "metadata": {
            "tags": []
          },
          "execution_count": 12
        }
      ]
    },
    {
      "cell_type": "code",
      "metadata": {
        "colab": {
          "base_uri": "https://localhost:8080/"
        },
        "id": "MDzramyxoZVe",
        "outputId": "abcd7b85-0194-4f31-c793-7cbddcac6247"
      },
      "source": [
        "df_orig.shape"
      ],
      "execution_count": null,
      "outputs": [
        {
          "output_type": "execute_result",
          "data": {
            "text/plain": [
              "(73626, 28)"
            ]
          },
          "metadata": {
            "tags": []
          },
          "execution_count": 13
        }
      ]
    },
    {
      "cell_type": "markdown",
      "metadata": {
        "id": "mdgXWWzvOUDz"
      },
      "source": [
        "## Example data"
      ]
    },
    {
      "cell_type": "code",
      "metadata": {
        "colab": {
          "base_uri": "https://localhost:8080/"
        },
        "id": "FMge3N6JoqES",
        "outputId": "75948c89-f67a-4d9f-9aa2-b5c6bf757e83"
      },
      "source": [
        "list(selected_loan_idxes_charged)[:5]"
      ],
      "execution_count": null,
      "outputs": [
        {
          "output_type": "execute_result",
          "data": {
            "text/plain": [
              "['F12Q30477843',\n",
              " 'F12Q30042459',\n",
              " 'F11Q30233758',\n",
              " 'F11Q10245833',\n",
              " 'F15Q30256139']"
            ]
          },
          "metadata": {
            "tags": []
          },
          "execution_count": 14
        }
      ]
    },
    {
      "cell_type": "code",
      "metadata": {
        "id": "6fkA-nfDo4iH",
        "colab": {
          "base_uri": "https://localhost:8080/",
          "height": 100
        },
        "outputId": "6b410a69-1b9b-44f5-bbee-53a948bffbd2"
      },
      "source": [
        "df_orig.loc[df_orig['loan_id']=='F12Q30477843', :]"
      ],
      "execution_count": null,
      "outputs": [
        {
          "output_type": "execute_result",
          "data": {
            "text/html": [
              "<div>\n",
              "<style scoped>\n",
              "    .dataframe tbody tr th:only-of-type {\n",
              "        vertical-align: middle;\n",
              "    }\n",
              "\n",
              "    .dataframe tbody tr th {\n",
              "        vertical-align: top;\n",
              "    }\n",
              "\n",
              "    .dataframe thead th {\n",
              "        text-align: right;\n",
              "    }\n",
              "</style>\n",
              "<table border=\"1\" class=\"dataframe\">\n",
              "  <thead>\n",
              "    <tr style=\"text-align: right;\">\n",
              "      <th></th>\n",
              "      <th>loan_id</th>\n",
              "      <th>o_init_pay_d</th>\n",
              "      <th>o_term</th>\n",
              "      <th>o_upb</th>\n",
              "      <th>o_mi</th>\n",
              "      <th>o_ltv</th>\n",
              "      <th>o_int_rate</th>\n",
              "      <th>o_chan</th>\n",
              "      <th>o_purp</th>\n",
              "      <th>o_ind_sup_cfm</th>\n",
              "      <th>o_credit_score</th>\n",
              "      <th>o_first_flag</th>\n",
              "      <th>o_dti</th>\n",
              "      <th>o_num_brwrs</th>\n",
              "      <th>o_units</th>\n",
              "      <th>o_occ_stat</th>\n",
              "      <th>o_prop_st</th>\n",
              "      <th>o_prop_type</th>\n",
              "      <th>o_pt_val_md</th>\n",
              "    </tr>\n",
              "  </thead>\n",
              "  <tbody>\n",
              "    <tr>\n",
              "      <th>34412</th>\n",
              "      <td>F12Q30477843</td>\n",
              "      <td>201211</td>\n",
              "      <td>360</td>\n",
              "      <td>210000</td>\n",
              "      <td>0.0</td>\n",
              "      <td>75</td>\n",
              "      <td>3.99</td>\n",
              "      <td>C</td>\n",
              "      <td>C</td>\n",
              "      <td>0</td>\n",
              "      <td>708</td>\n",
              "      <td>unknown</td>\n",
              "      <td>44</td>\n",
              "      <td>1</td>\n",
              "      <td>1</td>\n",
              "      <td>P</td>\n",
              "      <td>TN</td>\n",
              "      <td>SF</td>\n",
              "      <td>9</td>\n",
              "    </tr>\n",
              "  </tbody>\n",
              "</table>\n",
              "</div>"
            ],
            "text/plain": [
              "            loan_id  o_init_pay_d  o_term  ...  o_prop_st  o_prop_type  o_pt_val_md\n",
              "34412  F12Q30477843        201211     360  ...         TN           SF            9\n",
              "\n",
              "[1 rows x 19 columns]"
            ]
          },
          "metadata": {
            "tags": []
          },
          "execution_count": 86
        }
      ]
    },
    {
      "cell_type": "code",
      "metadata": {
        "id": "k0_Gz-6TpCuv",
        "colab": {
          "base_uri": "https://localhost:8080/",
          "height": 1000
        },
        "outputId": "9b7bc95b-59a5-47ba-a67b-9d93d92a4ff4"
      },
      "source": [
        "df_monthly.loc[df_monthly['loan_id']=='F12Q30477843', :]"
      ],
      "execution_count": null,
      "outputs": [
        {
          "output_type": "execute_result",
          "data": {
            "text/html": [
              "<div>\n",
              "<style scoped>\n",
              "    .dataframe tbody tr th:only-of-type {\n",
              "        vertical-align: middle;\n",
              "    }\n",
              "\n",
              "    .dataframe tbody tr th {\n",
              "        vertical-align: top;\n",
              "    }\n",
              "\n",
              "    .dataframe thead th {\n",
              "        text-align: right;\n",
              "    }\n",
              "</style>\n",
              "<table border=\"1\" class=\"dataframe\">\n",
              "  <thead>\n",
              "    <tr style=\"text-align: right;\">\n",
              "      <th></th>\n",
              "      <th>loan_id</th>\n",
              "      <th>rep_period</th>\n",
              "      <th>actual_upb</th>\n",
              "      <th>loan_status</th>\n",
              "      <th>loan_age</th>\n",
              "      <th>remaining_months</th>\n",
              "      <th>zero_bal_code</th>\n",
              "      <th>int_rate</th>\n",
              "      <th>est_ltv</th>\n",
              "      <th>delq_by_disaster</th>\n",
              "    </tr>\n",
              "  </thead>\n",
              "  <tbody>\n",
              "    <tr>\n",
              "      <th>1681989</th>\n",
              "      <td>F12Q30477843</td>\n",
              "      <td>201211</td>\n",
              "      <td>210000.00</td>\n",
              "      <td>0</td>\n",
              "      <td>1</td>\n",
              "      <td>359</td>\n",
              "      <td>NaN</td>\n",
              "      <td>3.990</td>\n",
              "      <td>NaN</td>\n",
              "      <td>0</td>\n",
              "    </tr>\n",
              "    <tr>\n",
              "      <th>1681990</th>\n",
              "      <td>F12Q30477843</td>\n",
              "      <td>201212</td>\n",
              "      <td>209000.00</td>\n",
              "      <td>0</td>\n",
              "      <td>2</td>\n",
              "      <td>358</td>\n",
              "      <td>NaN</td>\n",
              "      <td>3.990</td>\n",
              "      <td>NaN</td>\n",
              "      <td>0</td>\n",
              "    </tr>\n",
              "    <tr>\n",
              "      <th>1681991</th>\n",
              "      <td>F12Q30477843</td>\n",
              "      <td>201301</td>\n",
              "      <td>209000.00</td>\n",
              "      <td>0</td>\n",
              "      <td>3</td>\n",
              "      <td>357</td>\n",
              "      <td>NaN</td>\n",
              "      <td>3.990</td>\n",
              "      <td>NaN</td>\n",
              "      <td>0</td>\n",
              "    </tr>\n",
              "    <tr>\n",
              "      <th>1681992</th>\n",
              "      <td>F12Q30477843</td>\n",
              "      <td>201302</td>\n",
              "      <td>209000.00</td>\n",
              "      <td>0</td>\n",
              "      <td>4</td>\n",
              "      <td>356</td>\n",
              "      <td>NaN</td>\n",
              "      <td>3.990</td>\n",
              "      <td>NaN</td>\n",
              "      <td>0</td>\n",
              "    </tr>\n",
              "    <tr>\n",
              "      <th>1681993</th>\n",
              "      <td>F12Q30477843</td>\n",
              "      <td>201303</td>\n",
              "      <td>208000.00</td>\n",
              "      <td>0</td>\n",
              "      <td>5</td>\n",
              "      <td>355</td>\n",
              "      <td>NaN</td>\n",
              "      <td>3.990</td>\n",
              "      <td>NaN</td>\n",
              "      <td>0</td>\n",
              "    </tr>\n",
              "    <tr>\n",
              "      <th>1681994</th>\n",
              "      <td>F12Q30477843</td>\n",
              "      <td>201304</td>\n",
              "      <td>208000.00</td>\n",
              "      <td>0</td>\n",
              "      <td>6</td>\n",
              "      <td>354</td>\n",
              "      <td>NaN</td>\n",
              "      <td>3.990</td>\n",
              "      <td>NaN</td>\n",
              "      <td>0</td>\n",
              "    </tr>\n",
              "    <tr>\n",
              "      <th>1681995</th>\n",
              "      <td>F12Q30477843</td>\n",
              "      <td>201305</td>\n",
              "      <td>207845.33</td>\n",
              "      <td>0</td>\n",
              "      <td>7</td>\n",
              "      <td>353</td>\n",
              "      <td>NaN</td>\n",
              "      <td>3.990</td>\n",
              "      <td>NaN</td>\n",
              "      <td>0</td>\n",
              "    </tr>\n",
              "    <tr>\n",
              "      <th>1681996</th>\n",
              "      <td>F12Q30477843</td>\n",
              "      <td>201306</td>\n",
              "      <td>207845.33</td>\n",
              "      <td>0</td>\n",
              "      <td>8</td>\n",
              "      <td>352</td>\n",
              "      <td>NaN</td>\n",
              "      <td>3.990</td>\n",
              "      <td>NaN</td>\n",
              "      <td>0</td>\n",
              "    </tr>\n",
              "    <tr>\n",
              "      <th>1681997</th>\n",
              "      <td>F12Q30477843</td>\n",
              "      <td>201307</td>\n",
              "      <td>207535.06</td>\n",
              "      <td>0</td>\n",
              "      <td>9</td>\n",
              "      <td>351</td>\n",
              "      <td>NaN</td>\n",
              "      <td>3.990</td>\n",
              "      <td>NaN</td>\n",
              "      <td>0</td>\n",
              "    </tr>\n",
              "    <tr>\n",
              "      <th>1681998</th>\n",
              "      <td>F12Q30477843</td>\n",
              "      <td>201308</td>\n",
              "      <td>207223.75</td>\n",
              "      <td>0</td>\n",
              "      <td>10</td>\n",
              "      <td>350</td>\n",
              "      <td>NaN</td>\n",
              "      <td>3.990</td>\n",
              "      <td>NaN</td>\n",
              "      <td>0</td>\n",
              "    </tr>\n",
              "    <tr>\n",
              "      <th>1681999</th>\n",
              "      <td>F12Q30477843</td>\n",
              "      <td>201309</td>\n",
              "      <td>206911.41</td>\n",
              "      <td>0</td>\n",
              "      <td>11</td>\n",
              "      <td>349</td>\n",
              "      <td>NaN</td>\n",
              "      <td>3.990</td>\n",
              "      <td>NaN</td>\n",
              "      <td>0</td>\n",
              "    </tr>\n",
              "    <tr>\n",
              "      <th>1682000</th>\n",
              "      <td>F12Q30477843</td>\n",
              "      <td>201310</td>\n",
              "      <td>206283.61</td>\n",
              "      <td>0</td>\n",
              "      <td>12</td>\n",
              "      <td>348</td>\n",
              "      <td>NaN</td>\n",
              "      <td>3.990</td>\n",
              "      <td>NaN</td>\n",
              "      <td>0</td>\n",
              "    </tr>\n",
              "    <tr>\n",
              "      <th>1682001</th>\n",
              "      <td>F12Q30477843</td>\n",
              "      <td>201311</td>\n",
              "      <td>205968.14</td>\n",
              "      <td>0</td>\n",
              "      <td>13</td>\n",
              "      <td>347</td>\n",
              "      <td>NaN</td>\n",
              "      <td>3.990</td>\n",
              "      <td>NaN</td>\n",
              "      <td>0</td>\n",
              "    </tr>\n",
              "    <tr>\n",
              "      <th>1682002</th>\n",
              "      <td>F12Q30477843</td>\n",
              "      <td>201312</td>\n",
              "      <td>205968.14</td>\n",
              "      <td>0</td>\n",
              "      <td>14</td>\n",
              "      <td>346</td>\n",
              "      <td>NaN</td>\n",
              "      <td>3.990</td>\n",
              "      <td>NaN</td>\n",
              "      <td>0</td>\n",
              "    </tr>\n",
              "    <tr>\n",
              "      <th>1682003</th>\n",
              "      <td>F12Q30477843</td>\n",
              "      <td>201401</td>\n",
              "      <td>205651.62</td>\n",
              "      <td>1</td>\n",
              "      <td>15</td>\n",
              "      <td>345</td>\n",
              "      <td>NaN</td>\n",
              "      <td>3.990</td>\n",
              "      <td>NaN</td>\n",
              "      <td>0</td>\n",
              "    </tr>\n",
              "    <tr>\n",
              "      <th>1682004</th>\n",
              "      <td>F12Q30477843</td>\n",
              "      <td>201402</td>\n",
              "      <td>205651.62</td>\n",
              "      <td>1</td>\n",
              "      <td>16</td>\n",
              "      <td>344</td>\n",
              "      <td>NaN</td>\n",
              "      <td>3.990</td>\n",
              "      <td>NaN</td>\n",
              "      <td>0</td>\n",
              "    </tr>\n",
              "    <tr>\n",
              "      <th>1682005</th>\n",
              "      <td>F12Q30477843</td>\n",
              "      <td>201403</td>\n",
              "      <td>205015.43</td>\n",
              "      <td>0</td>\n",
              "      <td>17</td>\n",
              "      <td>343</td>\n",
              "      <td>NaN</td>\n",
              "      <td>3.990</td>\n",
              "      <td>NaN</td>\n",
              "      <td>0</td>\n",
              "    </tr>\n",
              "    <tr>\n",
              "      <th>1682006</th>\n",
              "      <td>F12Q30477843</td>\n",
              "      <td>201404</td>\n",
              "      <td>204695.75</td>\n",
              "      <td>1</td>\n",
              "      <td>18</td>\n",
              "      <td>342</td>\n",
              "      <td>NaN</td>\n",
              "      <td>3.990</td>\n",
              "      <td>NaN</td>\n",
              "      <td>0</td>\n",
              "    </tr>\n",
              "    <tr>\n",
              "      <th>1682007</th>\n",
              "      <td>F12Q30477843</td>\n",
              "      <td>201405</td>\n",
              "      <td>204695.75</td>\n",
              "      <td>2</td>\n",
              "      <td>19</td>\n",
              "      <td>341</td>\n",
              "      <td>NaN</td>\n",
              "      <td>3.990</td>\n",
              "      <td>NaN</td>\n",
              "      <td>0</td>\n",
              "    </tr>\n",
              "    <tr>\n",
              "      <th>1682008</th>\n",
              "      <td>F12Q30477843</td>\n",
              "      <td>201406</td>\n",
              "      <td>204695.75</td>\n",
              "      <td>3</td>\n",
              "      <td>20</td>\n",
              "      <td>340</td>\n",
              "      <td>NaN</td>\n",
              "      <td>3.990</td>\n",
              "      <td>NaN</td>\n",
              "      <td>0</td>\n",
              "    </tr>\n",
              "    <tr>\n",
              "      <th>1682009</th>\n",
              "      <td>F12Q30477843</td>\n",
              "      <td>201407</td>\n",
              "      <td>204695.75</td>\n",
              "      <td>3</td>\n",
              "      <td>21</td>\n",
              "      <td>339</td>\n",
              "      <td>NaN</td>\n",
              "      <td>3.990</td>\n",
              "      <td>NaN</td>\n",
              "      <td>0</td>\n",
              "    </tr>\n",
              "    <tr>\n",
              "      <th>1682010</th>\n",
              "      <td>F12Q30477843</td>\n",
              "      <td>201408</td>\n",
              "      <td>204375.00</td>\n",
              "      <td>4</td>\n",
              "      <td>22</td>\n",
              "      <td>338</td>\n",
              "      <td>NaN</td>\n",
              "      <td>3.990</td>\n",
              "      <td>NaN</td>\n",
              "      <td>0</td>\n",
              "    </tr>\n",
              "    <tr>\n",
              "      <th>1682011</th>\n",
              "      <td>F12Q30477843</td>\n",
              "      <td>201409</td>\n",
              "      <td>204053.19</td>\n",
              "      <td>4</td>\n",
              "      <td>23</td>\n",
              "      <td>337</td>\n",
              "      <td>NaN</td>\n",
              "      <td>3.990</td>\n",
              "      <td>NaN</td>\n",
              "      <td>0</td>\n",
              "    </tr>\n",
              "    <tr>\n",
              "      <th>1682012</th>\n",
              "      <td>F12Q30477843</td>\n",
              "      <td>201410</td>\n",
              "      <td>203730.31</td>\n",
              "      <td>4</td>\n",
              "      <td>24</td>\n",
              "      <td>336</td>\n",
              "      <td>NaN</td>\n",
              "      <td>3.990</td>\n",
              "      <td>NaN</td>\n",
              "      <td>0</td>\n",
              "    </tr>\n",
              "    <tr>\n",
              "      <th>1682013</th>\n",
              "      <td>F12Q30477843</td>\n",
              "      <td>201411</td>\n",
              "      <td>203730.31</td>\n",
              "      <td>5</td>\n",
              "      <td>25</td>\n",
              "      <td>335</td>\n",
              "      <td>NaN</td>\n",
              "      <td>3.990</td>\n",
              "      <td>NaN</td>\n",
              "      <td>0</td>\n",
              "    </tr>\n",
              "    <tr>\n",
              "      <th>1682014</th>\n",
              "      <td>F12Q30477843</td>\n",
              "      <td>201412</td>\n",
              "      <td>209647.10</td>\n",
              "      <td>0</td>\n",
              "      <td>26</td>\n",
              "      <td>334</td>\n",
              "      <td>NaN</td>\n",
              "      <td>3.990</td>\n",
              "      <td>NaN</td>\n",
              "      <td>0</td>\n",
              "    </tr>\n",
              "    <tr>\n",
              "      <th>1682015</th>\n",
              "      <td>F12Q30477843</td>\n",
              "      <td>201501</td>\n",
              "      <td>209647.10</td>\n",
              "      <td>1</td>\n",
              "      <td>27</td>\n",
              "      <td>479</td>\n",
              "      <td>NaN</td>\n",
              "      <td>4.625</td>\n",
              "      <td>NaN</td>\n",
              "      <td>0</td>\n",
              "    </tr>\n",
              "    <tr>\n",
              "      <th>1682016</th>\n",
              "      <td>F12Q30477843</td>\n",
              "      <td>201502</td>\n",
              "      <td>209647.10</td>\n",
              "      <td>1</td>\n",
              "      <td>28</td>\n",
              "      <td>478</td>\n",
              "      <td>NaN</td>\n",
              "      <td>4.625</td>\n",
              "      <td>NaN</td>\n",
              "      <td>0</td>\n",
              "    </tr>\n",
              "    <tr>\n",
              "      <th>1682017</th>\n",
              "      <td>F12Q30477843</td>\n",
              "      <td>201503</td>\n",
              "      <td>209495.70</td>\n",
              "      <td>2</td>\n",
              "      <td>29</td>\n",
              "      <td>477</td>\n",
              "      <td>NaN</td>\n",
              "      <td>4.625</td>\n",
              "      <td>NaN</td>\n",
              "      <td>0</td>\n",
              "    </tr>\n",
              "    <tr>\n",
              "      <th>1682018</th>\n",
              "      <td>F12Q30477843</td>\n",
              "      <td>201504</td>\n",
              "      <td>209495.70</td>\n",
              "      <td>2</td>\n",
              "      <td>30</td>\n",
              "      <td>476</td>\n",
              "      <td>NaN</td>\n",
              "      <td>4.625</td>\n",
              "      <td>NaN</td>\n",
              "      <td>0</td>\n",
              "    </tr>\n",
              "    <tr>\n",
              "      <th>1682019</th>\n",
              "      <td>F12Q30477843</td>\n",
              "      <td>201505</td>\n",
              "      <td>209343.72</td>\n",
              "      <td>2</td>\n",
              "      <td>31</td>\n",
              "      <td>475</td>\n",
              "      <td>NaN</td>\n",
              "      <td>4.625</td>\n",
              "      <td>NaN</td>\n",
              "      <td>0</td>\n",
              "    </tr>\n",
              "    <tr>\n",
              "      <th>1682020</th>\n",
              "      <td>F12Q30477843</td>\n",
              "      <td>201506</td>\n",
              "      <td>209191.16</td>\n",
              "      <td>2</td>\n",
              "      <td>32</td>\n",
              "      <td>474</td>\n",
              "      <td>NaN</td>\n",
              "      <td>4.625</td>\n",
              "      <td>NaN</td>\n",
              "      <td>0</td>\n",
              "    </tr>\n",
              "    <tr>\n",
              "      <th>1682021</th>\n",
              "      <td>F12Q30477843</td>\n",
              "      <td>201507</td>\n",
              "      <td>209038.01</td>\n",
              "      <td>3</td>\n",
              "      <td>33</td>\n",
              "      <td>473</td>\n",
              "      <td>NaN</td>\n",
              "      <td>4.625</td>\n",
              "      <td>NaN</td>\n",
              "      <td>0</td>\n",
              "    </tr>\n",
              "    <tr>\n",
              "      <th>1682022</th>\n",
              "      <td>F12Q30477843</td>\n",
              "      <td>201508</td>\n",
              "      <td>209038.01</td>\n",
              "      <td>4</td>\n",
              "      <td>34</td>\n",
              "      <td>472</td>\n",
              "      <td>NaN</td>\n",
              "      <td>4.625</td>\n",
              "      <td>NaN</td>\n",
              "      <td>0</td>\n",
              "    </tr>\n",
              "    <tr>\n",
              "      <th>1682023</th>\n",
              "      <td>F12Q30477843</td>\n",
              "      <td>201509</td>\n",
              "      <td>209038.01</td>\n",
              "      <td>5</td>\n",
              "      <td>35</td>\n",
              "      <td>471</td>\n",
              "      <td>NaN</td>\n",
              "      <td>4.625</td>\n",
              "      <td>NaN</td>\n",
              "      <td>0</td>\n",
              "    </tr>\n",
              "    <tr>\n",
              "      <th>1682024</th>\n",
              "      <td>F12Q30477843</td>\n",
              "      <td>201510</td>\n",
              "      <td>209038.01</td>\n",
              "      <td>5</td>\n",
              "      <td>36</td>\n",
              "      <td>470</td>\n",
              "      <td>NaN</td>\n",
              "      <td>4.625</td>\n",
              "      <td>NaN</td>\n",
              "      <td>0</td>\n",
              "    </tr>\n",
              "    <tr>\n",
              "      <th>1682025</th>\n",
              "      <td>F12Q30477843</td>\n",
              "      <td>201511</td>\n",
              "      <td>208884.27</td>\n",
              "      <td>6</td>\n",
              "      <td>37</td>\n",
              "      <td>469</td>\n",
              "      <td>NaN</td>\n",
              "      <td>4.625</td>\n",
              "      <td>NaN</td>\n",
              "      <td>0</td>\n",
              "    </tr>\n",
              "    <tr>\n",
              "      <th>1682026</th>\n",
              "      <td>F12Q30477843</td>\n",
              "      <td>201512</td>\n",
              "      <td>208884.27</td>\n",
              "      <td>7</td>\n",
              "      <td>38</td>\n",
              "      <td>468</td>\n",
              "      <td>NaN</td>\n",
              "      <td>4.625</td>\n",
              "      <td>NaN</td>\n",
              "      <td>0</td>\n",
              "    </tr>\n",
              "    <tr>\n",
              "      <th>1682027</th>\n",
              "      <td>F12Q30477843</td>\n",
              "      <td>201601</td>\n",
              "      <td>208884.27</td>\n",
              "      <td>8</td>\n",
              "      <td>39</td>\n",
              "      <td>467</td>\n",
              "      <td>NaN</td>\n",
              "      <td>4.625</td>\n",
              "      <td>NaN</td>\n",
              "      <td>0</td>\n",
              "    </tr>\n",
              "    <tr>\n",
              "      <th>1682028</th>\n",
              "      <td>F12Q30477843</td>\n",
              "      <td>201602</td>\n",
              "      <td>208884.27</td>\n",
              "      <td>9</td>\n",
              "      <td>40</td>\n",
              "      <td>466</td>\n",
              "      <td>NaN</td>\n",
              "      <td>4.625</td>\n",
              "      <td>NaN</td>\n",
              "      <td>0</td>\n",
              "    </tr>\n",
              "    <tr>\n",
              "      <th>1682029</th>\n",
              "      <td>F12Q30477843</td>\n",
              "      <td>201603</td>\n",
              "      <td>208884.27</td>\n",
              "      <td>-1</td>\n",
              "      <td>41</td>\n",
              "      <td>465</td>\n",
              "      <td>NaN</td>\n",
              "      <td>4.625</td>\n",
              "      <td>NaN</td>\n",
              "      <td>0</td>\n",
              "    </tr>\n",
              "    <tr>\n",
              "      <th>1682030</th>\n",
              "      <td>F12Q30477843</td>\n",
              "      <td>201911</td>\n",
              "      <td>0.00</td>\n",
              "      <td>-1</td>\n",
              "      <td>85</td>\n",
              "      <td>421</td>\n",
              "      <td>9.0</td>\n",
              "      <td>4.625</td>\n",
              "      <td>NaN</td>\n",
              "      <td>0</td>\n",
              "    </tr>\n",
              "  </tbody>\n",
              "</table>\n",
              "</div>"
            ],
            "text/plain": [
              "              loan_id  rep_period  ...  est_ltv  delq_by_disaster\n",
              "1681989  F12Q30477843      201211  ...      NaN                 0\n",
              "1681990  F12Q30477843      201212  ...      NaN                 0\n",
              "1681991  F12Q30477843      201301  ...      NaN                 0\n",
              "1681992  F12Q30477843      201302  ...      NaN                 0\n",
              "1681993  F12Q30477843      201303  ...      NaN                 0\n",
              "1681994  F12Q30477843      201304  ...      NaN                 0\n",
              "1681995  F12Q30477843      201305  ...      NaN                 0\n",
              "1681996  F12Q30477843      201306  ...      NaN                 0\n",
              "1681997  F12Q30477843      201307  ...      NaN                 0\n",
              "1681998  F12Q30477843      201308  ...      NaN                 0\n",
              "1681999  F12Q30477843      201309  ...      NaN                 0\n",
              "1682000  F12Q30477843      201310  ...      NaN                 0\n",
              "1682001  F12Q30477843      201311  ...      NaN                 0\n",
              "1682002  F12Q30477843      201312  ...      NaN                 0\n",
              "1682003  F12Q30477843      201401  ...      NaN                 0\n",
              "1682004  F12Q30477843      201402  ...      NaN                 0\n",
              "1682005  F12Q30477843      201403  ...      NaN                 0\n",
              "1682006  F12Q30477843      201404  ...      NaN                 0\n",
              "1682007  F12Q30477843      201405  ...      NaN                 0\n",
              "1682008  F12Q30477843      201406  ...      NaN                 0\n",
              "1682009  F12Q30477843      201407  ...      NaN                 0\n",
              "1682010  F12Q30477843      201408  ...      NaN                 0\n",
              "1682011  F12Q30477843      201409  ...      NaN                 0\n",
              "1682012  F12Q30477843      201410  ...      NaN                 0\n",
              "1682013  F12Q30477843      201411  ...      NaN                 0\n",
              "1682014  F12Q30477843      201412  ...      NaN                 0\n",
              "1682015  F12Q30477843      201501  ...      NaN                 0\n",
              "1682016  F12Q30477843      201502  ...      NaN                 0\n",
              "1682017  F12Q30477843      201503  ...      NaN                 0\n",
              "1682018  F12Q30477843      201504  ...      NaN                 0\n",
              "1682019  F12Q30477843      201505  ...      NaN                 0\n",
              "1682020  F12Q30477843      201506  ...      NaN                 0\n",
              "1682021  F12Q30477843      201507  ...      NaN                 0\n",
              "1682022  F12Q30477843      201508  ...      NaN                 0\n",
              "1682023  F12Q30477843      201509  ...      NaN                 0\n",
              "1682024  F12Q30477843      201510  ...      NaN                 0\n",
              "1682025  F12Q30477843      201511  ...      NaN                 0\n",
              "1682026  F12Q30477843      201512  ...      NaN                 0\n",
              "1682027  F12Q30477843      201601  ...      NaN                 0\n",
              "1682028  F12Q30477843      201602  ...      NaN                 0\n",
              "1682029  F12Q30477843      201603  ...      NaN                 0\n",
              "1682030  F12Q30477843      201911  ...      NaN                 0\n",
              "\n",
              "[42 rows x 10 columns]"
            ]
          },
          "metadata": {
            "tags": []
          },
          "execution_count": 87
        }
      ]
    },
    {
      "cell_type": "code",
      "metadata": {
        "id": "LQUpGbWRP0lT"
      },
      "source": [
        "# df_orig.info(memory_usage='deep')"
      ],
      "execution_count": null,
      "outputs": []
    },
    {
      "cell_type": "code",
      "metadata": {
        "colab": {
          "base_uri": "https://localhost:8080/",
          "height": 917
        },
        "id": "iZioNg5xJppg",
        "outputId": "c47c6d52-fd16-44b1-8389-3cc1df7bd46c"
      },
      "source": [
        "percent_missing = pd.DataFrame(df_orig.isnull().sum()*100/ len(df_orig), columns=['missing percentage'])\n",
        "percent_missing.sort_values(by='missing percentage', ascending=False, inplace=True)\n",
        "percent_missing"
      ],
      "execution_count": null,
      "outputs": [
        {
          "output_type": "execute_result",
          "data": {
            "text/html": [
              "<div>\n",
              "<style scoped>\n",
              "    .dataframe tbody tr th:only-of-type {\n",
              "        vertical-align: middle;\n",
              "    }\n",
              "\n",
              "    .dataframe tbody tr th {\n",
              "        vertical-align: top;\n",
              "    }\n",
              "\n",
              "    .dataframe thead th {\n",
              "        text-align: right;\n",
              "    }\n",
              "</style>\n",
              "<table border=\"1\" class=\"dataframe\">\n",
              "  <thead>\n",
              "    <tr style=\"text-align: right;\">\n",
              "      <th></th>\n",
              "      <th>missing percentage</th>\n",
              "    </tr>\n",
              "  </thead>\n",
              "  <tbody>\n",
              "    <tr>\n",
              "      <th>o_sp_cnfm</th>\n",
              "      <td>98.044169</td>\n",
              "    </tr>\n",
              "    <tr>\n",
              "      <th>o_harp_ind</th>\n",
              "      <td>49.498818</td>\n",
              "    </tr>\n",
              "    <tr>\n",
              "      <th>o_msa</th>\n",
              "      <td>26.904898</td>\n",
              "    </tr>\n",
              "    <tr>\n",
              "      <th>o_credit_score</th>\n",
              "      <td>0.000000</td>\n",
              "    </tr>\n",
              "    <tr>\n",
              "      <th>o_amtz_type</th>\n",
              "      <td>0.000000</td>\n",
              "    </tr>\n",
              "    <tr>\n",
              "      <th>o_pt_val_md</th>\n",
              "      <td>0.000000</td>\n",
              "    </tr>\n",
              "    <tr>\n",
              "      <th>o_prgm_ind</th>\n",
              "      <td>0.000000</td>\n",
              "    </tr>\n",
              "    <tr>\n",
              "      <th>o_num_brwrs</th>\n",
              "      <td>0.000000</td>\n",
              "    </tr>\n",
              "    <tr>\n",
              "      <th>o_term</th>\n",
              "      <td>0.000000</td>\n",
              "    </tr>\n",
              "    <tr>\n",
              "      <th>o_purp</th>\n",
              "      <td>0.000000</td>\n",
              "    </tr>\n",
              "    <tr>\n",
              "      <th>loan_id</th>\n",
              "      <td>0.000000</td>\n",
              "    </tr>\n",
              "    <tr>\n",
              "      <th>o_zip</th>\n",
              "      <td>0.000000</td>\n",
              "    </tr>\n",
              "    <tr>\n",
              "      <th>o_prop_type</th>\n",
              "      <td>0.000000</td>\n",
              "    </tr>\n",
              "    <tr>\n",
              "      <th>o_prop_st</th>\n",
              "      <td>0.000000</td>\n",
              "    </tr>\n",
              "    <tr>\n",
              "      <th>o_ppm</th>\n",
              "      <td>0.000000</td>\n",
              "    </tr>\n",
              "    <tr>\n",
              "      <th>o_init_pay_d</th>\n",
              "      <td>0.000000</td>\n",
              "    </tr>\n",
              "    <tr>\n",
              "      <th>o_chan</th>\n",
              "      <td>0.000000</td>\n",
              "    </tr>\n",
              "    <tr>\n",
              "      <th>o_int_rate</th>\n",
              "      <td>0.000000</td>\n",
              "    </tr>\n",
              "    <tr>\n",
              "      <th>o_ltv</th>\n",
              "      <td>0.000000</td>\n",
              "    </tr>\n",
              "    <tr>\n",
              "      <th>o_upb</th>\n",
              "      <td>0.000000</td>\n",
              "    </tr>\n",
              "    <tr>\n",
              "      <th>o_dti</th>\n",
              "      <td>0.000000</td>\n",
              "    </tr>\n",
              "    <tr>\n",
              "      <th>o_cltv</th>\n",
              "      <td>0.000000</td>\n",
              "    </tr>\n",
              "    <tr>\n",
              "      <th>o_occ_stat</th>\n",
              "      <td>0.000000</td>\n",
              "    </tr>\n",
              "    <tr>\n",
              "      <th>o_units</th>\n",
              "      <td>0.000000</td>\n",
              "    </tr>\n",
              "    <tr>\n",
              "      <th>o_mi</th>\n",
              "      <td>0.000000</td>\n",
              "    </tr>\n",
              "    <tr>\n",
              "      <th>o_mat_d</th>\n",
              "      <td>0.000000</td>\n",
              "    </tr>\n",
              "    <tr>\n",
              "      <th>o_first_flag</th>\n",
              "      <td>0.000000</td>\n",
              "    </tr>\n",
              "    <tr>\n",
              "      <th>o_int_only</th>\n",
              "      <td>0.000000</td>\n",
              "    </tr>\n",
              "  </tbody>\n",
              "</table>\n",
              "</div>"
            ],
            "text/plain": [
              "                missing percentage\n",
              "o_sp_cnfm                98.044169\n",
              "o_harp_ind               49.498818\n",
              "o_msa                    26.904898\n",
              "o_credit_score            0.000000\n",
              "o_amtz_type               0.000000\n",
              "o_pt_val_md               0.000000\n",
              "o_prgm_ind                0.000000\n",
              "o_num_brwrs               0.000000\n",
              "o_term                    0.000000\n",
              "o_purp                    0.000000\n",
              "loan_id                   0.000000\n",
              "o_zip                     0.000000\n",
              "o_prop_type               0.000000\n",
              "o_prop_st                 0.000000\n",
              "o_ppm                     0.000000\n",
              "o_init_pay_d              0.000000\n",
              "o_chan                    0.000000\n",
              "o_int_rate                0.000000\n",
              "o_ltv                     0.000000\n",
              "o_upb                     0.000000\n",
              "o_dti                     0.000000\n",
              "o_cltv                    0.000000\n",
              "o_occ_stat                0.000000\n",
              "o_units                   0.000000\n",
              "o_mi                      0.000000\n",
              "o_mat_d                   0.000000\n",
              "o_first_flag              0.000000\n",
              "o_int_only                0.000000"
            ]
          },
          "metadata": {
            "tags": []
          },
          "execution_count": 18
        }
      ]
    },
    {
      "cell_type": "markdown",
      "metadata": {
        "id": "WCNe-hT_qNb_"
      },
      "source": [
        "## Data Preprocessing for Origination Data"
      ]
    },
    {
      "cell_type": "code",
      "metadata": {
        "id": "rOr0JLox2aqo"
      },
      "source": [
        "cols_to_del = []\n",
        "loan_idxes_to_del = set()"
      ],
      "execution_count": null,
      "outputs": []
    },
    {
      "cell_type": "markdown",
      "metadata": {
        "id": "zt0GJAb12i8y"
      },
      "source": [
        "#### Credit Score"
      ]
    },
    {
      "cell_type": "markdown",
      "metadata": {
        "id": "qvRzIyzKpsKM"
      },
      "source": [
        "remove loans that have unknown credit score"
      ]
    },
    {
      "cell_type": "code",
      "metadata": {
        "id": "MZ3nxk3w2gzq"
      },
      "source": [
        "# df_orig = df_orig.loc[df_orig['o_credit_score']!=9999, :]\n",
        "# df_orig.shape\n",
        "\n",
        "loan_idxes_to_del.update(df_orig.loc[df_orig['o_credit_score']==9999, 'loan_id'].values.tolist())"
      ],
      "execution_count": null,
      "outputs": []
    },
    {
      "cell_type": "markdown",
      "metadata": {
        "id": "4HPCdeMnxK2G"
      },
      "source": [
        "#### Super Conforming Flag"
      ]
    },
    {
      "cell_type": "code",
      "metadata": {
        "colab": {
          "base_uri": "https://localhost:8080/"
        },
        "id": "8FRDZNyfwwUy",
        "outputId": "482736e3-7072-4c89-ba02-3243b5d9468c"
      },
      "source": [
        "df_orig['o_ind_sup_cfm'] = 0\n",
        "df_orig.loc[df_orig['o_sp_cnfm']=='Y', 'o_ind_sup_cfm'] = 1\n",
        "df_orig.drop(columns=['o_sp_cnfm'], inplace=True, errors='ignore')\n",
        "df_orig['o_ind_sup_cfm'].value_counts(dropna=False)"
      ],
      "execution_count": null,
      "outputs": [
        {
          "output_type": "execute_result",
          "data": {
            "text/plain": [
              "0    72186\n",
              "1     1440\n",
              "Name: o_ind_sup_cfm, dtype: int64"
            ]
          },
          "metadata": {
            "tags": []
          },
          "execution_count": 21
        }
      ]
    },
    {
      "cell_type": "markdown",
      "metadata": {
        "id": "E-w_ZNncxbrG"
      },
      "source": [
        "#### Metropolitan Statistical Area (MSA) Or Metropolitan Division\t"
      ]
    },
    {
      "cell_type": "code",
      "metadata": {
        "colab": {
          "base_uri": "https://localhost:8080/"
        },
        "id": "ItSr4BVe0zYR",
        "outputId": "26c8e5f5-8671-4411-f96c-fca700cfe5a4"
      },
      "source": [
        "# df_orig['Metropolitan Statistical Area (MSA) Or Metropolitan Division'].value_counts(dropna=False)\n",
        "df_orig['o_msa'].nunique()"
      ],
      "execution_count": null,
      "outputs": [
        {
          "output_type": "execute_result",
          "data": {
            "text/plain": [
              "431"
            ]
          },
          "metadata": {
            "tags": []
          },
          "execution_count": 22
        }
      ]
    },
    {
      "cell_type": "code",
      "metadata": {
        "id": "gjmGHaeD1tfC"
      },
      "source": [
        "## too many MSA code\n",
        "cols_to_del.append('o_msa')"
      ],
      "execution_count": null,
      "outputs": []
    },
    {
      "cell_type": "markdown",
      "metadata": {
        "id": "4fhnhMWU5XV-"
      },
      "source": [
        "#### Program Indicator"
      ]
    },
    {
      "cell_type": "code",
      "metadata": {
        "colab": {
          "base_uri": "https://localhost:8080/"
        },
        "id": "2pZAa3U9qTLf",
        "outputId": "1b86248a-e788-4190-b79e-cf671d61feae"
      },
      "source": [
        "df_orig['o_prgm_ind'].value_counts(dropna=False)"
      ],
      "execution_count": null,
      "outputs": [
        {
          "output_type": "execute_result",
          "data": {
            "text/plain": [
              "9    64458\n",
              "9     8583\n",
              "H      585\n",
              "Name: o_prgm_ind, dtype: int64"
            ]
          },
          "metadata": {
            "tags": []
          },
          "execution_count": 24
        }
      ]
    },
    {
      "cell_type": "code",
      "metadata": {
        "colab": {
          "base_uri": "https://localhost:8080/"
        },
        "id": "qX-GWOhysmy7",
        "outputId": "7e81b2a1-97e4-45d5-d65f-d3a50070ad5b"
      },
      "source": [
        "df_orig.loc[df_orig['o_prgm_ind']=='9', 'o_prgm_ind'] = 0\n",
        "df_orig.loc[df_orig['o_prgm_ind']=='H', 'o_prgm_ind'] = 1\n",
        "df_orig['o_prgm_ind'].value_counts(dropna=False)"
      ],
      "execution_count": null,
      "outputs": [
        {
          "output_type": "execute_result",
          "data": {
            "text/plain": [
              "9    64458\n",
              "0     8583\n",
              "1      585\n",
              "Name: o_prgm_ind, dtype: int64"
            ]
          },
          "metadata": {
            "tags": []
          },
          "execution_count": 25
        }
      ]
    },
    {
      "cell_type": "code",
      "metadata": {
        "id": "CG9SxJZs7XXi"
      },
      "source": [
        "# df_orig.drop(columns=['o_prgm_ind'], inplace=True, errors='ignore')\n",
        "# cols_to_del.append('o_msa')"
      ],
      "execution_count": null,
      "outputs": []
    },
    {
      "cell_type": "markdown",
      "metadata": {
        "id": "f12uftB3qLIq"
      },
      "source": [
        "#### Number of Borrowers\n",
        "categorical value"
      ]
    },
    {
      "cell_type": "code",
      "metadata": {
        "colab": {
          "base_uri": "https://localhost:8080/"
        },
        "id": "I0J1F32P7i2f",
        "outputId": "bb72755c-e3ab-4c58-c2fa-b8f676ee3350"
      },
      "source": [
        "df_orig['o_num_brwrs'].value_counts(dropna=False)"
      ],
      "execution_count": null,
      "outputs": [
        {
          "output_type": "execute_result",
          "data": {
            "text/plain": [
              "1    39958\n",
              "2    33668\n",
              "Name: o_num_brwrs, dtype: int64"
            ]
          },
          "metadata": {
            "tags": []
          },
          "execution_count": 27
        }
      ]
    },
    {
      "cell_type": "markdown",
      "metadata": {
        "id": "XTVSB-k_1GS5"
      },
      "source": [
        "#### Original Loan Term"
      ]
    },
    {
      "cell_type": "code",
      "metadata": {
        "colab": {
          "base_uri": "https://localhost:8080/"
        },
        "id": "XHO55t9dBTvB",
        "outputId": "8913ee55-2c6b-44b7-d63d-797aaedcb155"
      },
      "source": [
        "df_orig['o_term'].describe()"
      ],
      "execution_count": null,
      "outputs": [
        {
          "output_type": "execute_result",
          "data": {
            "text/plain": [
              "count    73626.000000\n",
              "mean       321.261253\n",
              "std         71.876238\n",
              "min         72.000000\n",
              "25%        360.000000\n",
              "50%        360.000000\n",
              "75%        360.000000\n",
              "max        360.000000\n",
              "Name: o_term, dtype: float64"
            ]
          },
          "metadata": {
            "tags": []
          },
          "execution_count": 28
        }
      ]
    },
    {
      "cell_type": "code",
      "metadata": {
        "colab": {
          "base_uri": "https://localhost:8080/"
        },
        "id": "ARi5ea4vAJ3Q",
        "outputId": "231a17e5-011d-41b7-81e9-2e5a7f485a81"
      },
      "source": [
        "df_orig.shape"
      ],
      "execution_count": null,
      "outputs": [
        {
          "output_type": "execute_result",
          "data": {
            "text/plain": [
              "(73626, 28)"
            ]
          },
          "metadata": {
            "tags": []
          },
          "execution_count": 29
        }
      ]
    },
    {
      "cell_type": "code",
      "metadata": {
        "id": "QTnmHf7gACyO",
        "colab": {
          "base_uri": "https://localhost:8080/"
        },
        "outputId": "f92f2e01-8232-4774-c730-f4e2463843fc"
      },
      "source": [
        "## only use 30-year loan\n",
        "df_orig = df_orig.loc[df_orig['o_term']==360]\n",
        "df_orig.shape"
      ],
      "execution_count": null,
      "outputs": [
        {
          "output_type": "execute_result",
          "data": {
            "text/plain": [
              "(55874, 28)"
            ]
          },
          "metadata": {
            "tags": []
          },
          "execution_count": 30
        }
      ]
    },
    {
      "cell_type": "code",
      "metadata": {
        "id": "Uh9bKIfECSNT"
      },
      "source": [
        "# ## categorize loan terms\n",
        "# def digitize_oterm(df):\n",
        "#     res = np.digitize(df, bins=[0, 60, 120, 180, 240, 300, 360], right=True)\n",
        "#     res = res*60\n",
        "#     return res\n",
        "\n",
        "\n",
        "# df_orig['o_term'] = digitize_oterm(df_orig['o_term'])"
      ],
      "execution_count": null,
      "outputs": []
    },
    {
      "cell_type": "code",
      "metadata": {
        "id": "mEEa51M7HaB2"
      },
      "source": [
        "# df_orig['o_term'].value_counts(dropna=False)"
      ],
      "execution_count": null,
      "outputs": []
    },
    {
      "cell_type": "code",
      "metadata": {
        "id": "g_wMUDA7_-0W"
      },
      "source": [
        ""
      ],
      "execution_count": null,
      "outputs": []
    },
    {
      "cell_type": "markdown",
      "metadata": {
        "id": "Imcb6_7QASqI"
      },
      "source": [
        "#### Prepayment Penalty Mortgage (PPM) Flag"
      ]
    },
    {
      "cell_type": "code",
      "metadata": {
        "colab": {
          "base_uri": "https://localhost:8080/"
        },
        "id": "d0vtwv2c1NyM",
        "outputId": "74b1ef2f-1a4e-448b-e1cd-9dfc695b0111"
      },
      "source": [
        "df_orig['o_ppm'].value_counts(dropna=False)"
      ],
      "execution_count": null,
      "outputs": [
        {
          "output_type": "execute_result",
          "data": {
            "text/plain": [
              "N    55874\n",
              "Name: o_ppm, dtype: int64"
            ]
          },
          "metadata": {
            "tags": []
          },
          "execution_count": 33
        }
      ]
    },
    {
      "cell_type": "code",
      "metadata": {
        "id": "qezYADPmJKLO"
      },
      "source": [
        "# df_orig.drop(columns=['o_ppm'], \n",
        "#              inplace=True, \n",
        "#              errors='ignore')\n",
        "cols_to_del.append('o_ppm')"
      ],
      "execution_count": null,
      "outputs": []
    },
    {
      "cell_type": "markdown",
      "metadata": {
        "id": "5vxuiIJJJWYF"
      },
      "source": [
        "#### Loan Purpose"
      ]
    },
    {
      "cell_type": "code",
      "metadata": {
        "colab": {
          "base_uri": "https://localhost:8080/"
        },
        "id": "wvKexiuRJVNI",
        "outputId": "5e7e5550-9302-4784-9476-28bdf74e7641"
      },
      "source": [
        "df_orig['o_purp'].value_counts(dropna=False)"
      ],
      "execution_count": null,
      "outputs": [
        {
          "output_type": "execute_result",
          "data": {
            "text/plain": [
              "N    37041\n",
              "P    13631\n",
              "C     5202\n",
              "Name: o_purp, dtype: int64"
            ]
          },
          "metadata": {
            "tags": []
          },
          "execution_count": 35
        }
      ]
    },
    {
      "cell_type": "code",
      "metadata": {
        "id": "-5uU0fgYJxbH"
      },
      "source": [
        "df_orig.loc[df_orig['o_purp']=='9', 'o_purp'] = 'unknown'"
      ],
      "execution_count": null,
      "outputs": []
    },
    {
      "cell_type": "code",
      "metadata": {
        "colab": {
          "base_uri": "https://localhost:8080/"
        },
        "id": "xiFsuBCOwsz8",
        "outputId": "910bc254-3bbb-47ed-ad30-98bd5a7ec5bd"
      },
      "source": [
        "df_orig['o_purp'].value_counts(dropna=False)"
      ],
      "execution_count": null,
      "outputs": [
        {
          "output_type": "execute_result",
          "data": {
            "text/plain": [
              "N    37041\n",
              "P    13631\n",
              "C     5202\n",
              "Name: o_purp, dtype: int64"
            ]
          },
          "metadata": {
            "tags": []
          },
          "execution_count": 37
        }
      ]
    },
    {
      "cell_type": "markdown",
      "metadata": {
        "id": "CxU7hLsCKWEG"
      },
      "source": [
        "#### Property Type"
      ]
    },
    {
      "cell_type": "code",
      "metadata": {
        "colab": {
          "base_uri": "https://localhost:8080/"
        },
        "id": "Y-o1oBd2Njn6",
        "outputId": "040a3f67-919e-4863-cfe4-8151c3b21493"
      },
      "source": [
        "df_orig['o_prop_type'].value_counts(dropna=False)"
      ],
      "execution_count": null,
      "outputs": [
        {
          "output_type": "execute_result",
          "data": {
            "text/plain": [
              "SF    38881\n",
              "PU    10861\n",
              "CO     5799\n",
              "MH      267\n",
              "CP       66\n",
              "Name: o_prop_type, dtype: int64"
            ]
          },
          "metadata": {
            "tags": []
          },
          "execution_count": 38
        }
      ]
    },
    {
      "cell_type": "code",
      "metadata": {
        "id": "UrjKeQIvMneH"
      },
      "source": [
        "df_orig.loc[df_orig['o_prop_type']=='99', 'o_prop_type'] = 'unknown'"
      ],
      "execution_count": null,
      "outputs": []
    },
    {
      "cell_type": "code",
      "metadata": {
        "colab": {
          "base_uri": "https://localhost:8080/"
        },
        "id": "gjiXvFL0VB-3",
        "outputId": "6f3426ae-8083-4500-fac5-007666184734"
      },
      "source": [
        "df_orig['o_prop_type'].value_counts(dropna=False)"
      ],
      "execution_count": null,
      "outputs": [
        {
          "output_type": "execute_result",
          "data": {
            "text/plain": [
              "SF    38881\n",
              "PU    10861\n",
              "CO     5799\n",
              "MH      267\n",
              "CP       66\n",
              "Name: o_prop_type, dtype: int64"
            ]
          },
          "metadata": {
            "tags": []
          },
          "execution_count": 40
        }
      ]
    },
    {
      "cell_type": "markdown",
      "metadata": {
        "id": "9SU5TX8LVD3J"
      },
      "source": [
        "#### Property State"
      ]
    },
    {
      "cell_type": "code",
      "metadata": {
        "id": "hDULL40JVC4u"
      },
      "source": [
        "# df_orig['o_prop_st'].value_counts(dropna=False)"
      ],
      "execution_count": null,
      "outputs": []
    },
    {
      "cell_type": "code",
      "metadata": {
        "id": "eHuDsGrFyz8i"
      },
      "source": [
        "# num_keep_state = 20\n",
        "# keep_state = df_orig['o_prop_st'].value_counts(normalize=True)[:num_keep_state].index.tolist()\n",
        "# keep_state = set(keep_state)\n",
        "# print(keep_state)"
      ],
      "execution_count": null,
      "outputs": []
    },
    {
      "cell_type": "code",
      "metadata": {
        "id": "Dqb_7Vua2irx"
      },
      "source": [
        "# df_orig['o_prop_st_mod'] = df_orig['o_prop_st']\n",
        "# df_orig.loc[~df_orig['o_prop_st'].isin(keep_state), 'o_prop_st_mod'] = 'Other'"
      ],
      "execution_count": null,
      "outputs": []
    },
    {
      "cell_type": "code",
      "metadata": {
        "id": "j1MyJKimzeuv"
      },
      "source": [
        "# df_orig['o_prop_st_mod'].value_counts(normalize=True)"
      ],
      "execution_count": null,
      "outputs": []
    },
    {
      "cell_type": "code",
      "metadata": {
        "id": "IRSJa3M14BVG"
      },
      "source": [
        "# cols_to_del.append('o_prop_st')"
      ],
      "execution_count": null,
      "outputs": []
    },
    {
      "cell_type": "markdown",
      "metadata": {
        "id": "JXlUIulyV4dO"
      },
      "source": [
        "#### Original Interest Rate"
      ]
    },
    {
      "cell_type": "code",
      "metadata": {
        "colab": {
          "base_uri": "https://localhost:8080/"
        },
        "id": "buQS1jmQV2qA",
        "outputId": "2caafcf4-ab91-4d37-a893-ce5c97df8ae2"
      },
      "source": [
        "df_orig['o_int_rate'].plot(kind='hist', bins=100)"
      ],
      "execution_count": null,
      "outputs": [
        {
          "output_type": "execute_result",
          "data": {
            "text/plain": [
              "<matplotlib.axes._subplots.AxesSubplot at 0x7f574f4aa3d0>"
            ]
          },
          "metadata": {
            "tags": []
          },
          "execution_count": 46
        },
        {
          "output_type": "display_data",
          "data": {
            "image/png": "[encoded data removed]",
            "text/plain": [
              "<Figure size 432x288 with 1 Axes>"
            ]
          },
          "metadata": {
            "tags": [],
            "needs_background": "light"
          }
        }
      ]
    },
    {
      "cell_type": "markdown",
      "metadata": {
        "id": "MtWTvLvRXH2h"
      },
      "source": [
        "#### Original Loan-to-Value (LTV)"
      ]
    },
    {
      "cell_type": "code",
      "metadata": {
        "colab": {
          "base_uri": "https://localhost:8080/"
        },
        "id": "wHDq9Su3W-cd",
        "outputId": "d0c2d6d1-e6e7-43ab-9ad5-213d8bfb0d9a"
      },
      "source": [
        "df_orig['o_ltv'].hist(bins=100)"
      ],
      "execution_count": null,
      "outputs": [
        {
          "output_type": "execute_result",
          "data": {
            "text/plain": [
              "<matplotlib.axes._subplots.AxesSubplot at 0x7f574f510290>"
            ]
          },
          "metadata": {
            "tags": []
          },
          "execution_count": 47
        },
        {
          "output_type": "display_data",
          "data": {
            "image/png": "[encoded data removed]",
            "text/plain": [
              "<Figure size 432x288 with 1 Axes>"
            ]
          },
          "metadata": {
            "tags": [],
            "needs_background": "light"
          }
        }
      ]
    },
    {
      "cell_type": "code",
      "metadata": {
        "id": "7KgwSh-RXPGl"
      },
      "source": [
        "## 999: unknown\n",
        "# df_orig.loc[df_orig['o_ltv']==999, 'o_ltv'] = df_orig['o_ltv'].median()\n",
        "# df_orig.loc[df_orig['o_ltv']==999, :] \n",
        "\n",
        "## remove loan idxes that have unknown ltv\n",
        "loan_idxes_to_del.update(df_orig.loc[df_orig['o_ltv']==999, 'loan_id'].values.tolist())"
      ],
      "execution_count": null,
      "outputs": []
    },
    {
      "cell_type": "markdown",
      "metadata": {
        "id": "jhpTFG0LZZMf"
      },
      "source": [
        "#### Original Combined Loan-to-Value (CLTV)"
      ]
    },
    {
      "cell_type": "code",
      "metadata": {
        "colab": {
          "base_uri": "https://localhost:8080/"
        },
        "id": "Zty0T7ypZNgq",
        "outputId": "2d0a2878-e9b0-4061-ac9b-d30bd1b44db5"
      },
      "source": [
        "df_orig[['o_ltv', 'o_cltv']].corr()"
      ],
      "execution_count": null,
      "outputs": [
        {
          "output_type": "execute_result",
          "data": {
            "text/html": [
              "<div>\n",
              "<style scoped>\n",
              "    .dataframe tbody tr th:only-of-type {\n",
              "        vertical-align: middle;\n",
              "    }\n",
              "\n",
              "    .dataframe tbody tr th {\n",
              "        vertical-align: top;\n",
              "    }\n",
              "\n",
              "    .dataframe thead th {\n",
              "        text-align: right;\n",
              "    }\n",
              "</style>\n",
              "<table border=\"1\" class=\"dataframe\">\n",
              "  <thead>\n",
              "    <tr style=\"text-align: right;\">\n",
              "      <th></th>\n",
              "      <th>o_ltv</th>\n",
              "      <th>o_cltv</th>\n",
              "    </tr>\n",
              "  </thead>\n",
              "  <tbody>\n",
              "    <tr>\n",
              "      <th>o_ltv</th>\n",
              "      <td>1.000000</td>\n",
              "      <td>0.954757</td>\n",
              "    </tr>\n",
              "    <tr>\n",
              "      <th>o_cltv</th>\n",
              "      <td>0.954757</td>\n",
              "      <td>1.000000</td>\n",
              "    </tr>\n",
              "  </tbody>\n",
              "</table>\n",
              "</div>"
            ],
            "text/plain": [
              "           o_ltv    o_cltv\n",
              "o_ltv   1.000000  0.954757\n",
              "o_cltv  0.954757  1.000000"
            ]
          },
          "metadata": {
            "tags": []
          },
          "execution_count": 49
        }
      ]
    },
    {
      "cell_type": "code",
      "metadata": {
        "id": "xK7omwCHZjpb"
      },
      "source": [
        "# df_orig.drop(columns=['o_cltv'], inplace=True, errors='ignore')\n",
        "cols_to_del.append('o_cltv')"
      ],
      "execution_count": null,
      "outputs": []
    },
    {
      "cell_type": "markdown",
      "metadata": {
        "id": "SQj9jDWpYEHL"
      },
      "source": [
        "#### Original UPB: unpaid balance"
      ]
    },
    {
      "cell_type": "code",
      "metadata": {
        "colab": {
          "base_uri": "https://localhost:8080/"
        },
        "id": "lIGUeJ1hYKlV",
        "outputId": "f4c0b220-eb59-4705-bad6-528ee6bb0a94"
      },
      "source": [
        "df_orig['o_upb'].plot(kind='hist', bins=100)"
      ],
      "execution_count": null,
      "outputs": [
        {
          "output_type": "execute_result",
          "data": {
            "text/plain": [
              "<matplotlib.axes._subplots.AxesSubplot at 0x7f5736e16550>"
            ]
          },
          "metadata": {
            "tags": []
          },
          "execution_count": 51
        },
        {
          "output_type": "display_data",
          "data": {
            "image/png": "[encoded data removed]",
            "text/plain": [
              "<Figure size 432x288 with 1 Axes>"
            ]
          },
          "metadata": {
            "tags": [],
            "needs_background": "light"
          }
        }
      ]
    },
    {
      "cell_type": "markdown",
      "metadata": {
        "id": "g5dVHsFZZFUK"
      },
      "source": [
        "#### Original Debt-to-Income (DTI) Ratio"
      ]
    },
    {
      "cell_type": "code",
      "metadata": {
        "colab": {
          "base_uri": "https://localhost:8080/"
        },
        "id": "DfdqX-lKXh7i",
        "outputId": "ba608365-62fa-4f89-b512-3f037950bd8c"
      },
      "source": [
        "df_orig['o_dti'].plot(kind='hist', bins=100)"
      ],
      "execution_count": null,
      "outputs": [
        {
          "output_type": "execute_result",
          "data": {
            "text/plain": [
              "<matplotlib.axes._subplots.AxesSubplot at 0x7f574b3f2a50>"
            ]
          },
          "metadata": {
            "tags": []
          },
          "execution_count": 52
        },
        {
          "output_type": "display_data",
          "data": {
            "image/png": "[encoded data removed]",
            "text/plain": [
              "<Figure size 432x288 with 1 Axes>"
            ]
          },
          "metadata": {
            "tags": [],
            "needs_background": "light"
          }
        }
      ]
    },
    {
      "cell_type": "code",
      "metadata": {
        "colab": {
          "base_uri": "https://localhost:8080/"
        },
        "id": "GMvCyfC05LJq",
        "outputId": "eef48f65-89ea-4aff-85fb-9f76345f5980"
      },
      "source": [
        "df_orig['o_dti'].describe()"
      ],
      "execution_count": null,
      "outputs": [
        {
          "output_type": "execute_result",
          "data": {
            "text/plain": [
              "count    55874.000000\n",
              "mean       541.154634\n",
              "std        481.924424\n",
              "min          1.000000\n",
              "25%         36.000000\n",
              "50%        999.000000\n",
              "75%        999.000000\n",
              "max        999.000000\n",
              "Name: o_dti, dtype: float64"
            ]
          },
          "metadata": {
            "tags": []
          },
          "execution_count": 53
        }
      ]
    },
    {
      "cell_type": "code",
      "metadata": {
        "colab": {
          "base_uri": "https://localhost:8080/"
        },
        "id": "iRK_qEjV5YFP",
        "outputId": "30540df4-18e1-4bd8-ca32-500b03e5c61b"
      },
      "source": [
        "df_orig.loc[df_orig['o_dti']==999, :]"
      ],
      "execution_count": null,
      "outputs": [
        {
          "output_type": "execute_result",
          "data": {
            "text/html": [
              "<div>\n",
              "<style scoped>\n",
              "    .dataframe tbody tr th:only-of-type {\n",
              "        vertical-align: middle;\n",
              "    }\n",
              "\n",
              "    .dataframe tbody tr th {\n",
              "        vertical-align: top;\n",
              "    }\n",
              "\n",
              "    .dataframe thead th {\n",
              "        text-align: right;\n",
              "    }\n",
              "</style>\n",
              "<table border=\"1\" class=\"dataframe\">\n",
              "  <thead>\n",
              "    <tr style=\"text-align: right;\">\n",
              "      <th></th>\n",
              "      <th>o_credit_score</th>\n",
              "      <th>o_init_pay_d</th>\n",
              "      <th>o_first_flag</th>\n",
              "      <th>o_mat_d</th>\n",
              "      <th>o_msa</th>\n",
              "      <th>o_mi</th>\n",
              "      <th>o_units</th>\n",
              "      <th>o_occ_stat</th>\n",
              "      <th>o_cltv</th>\n",
              "      <th>o_dti</th>\n",
              "      <th>o_upb</th>\n",
              "      <th>o_ltv</th>\n",
              "      <th>o_int_rate</th>\n",
              "      <th>o_chan</th>\n",
              "      <th>o_ppm</th>\n",
              "      <th>o_amtz_type</th>\n",
              "      <th>o_prop_st</th>\n",
              "      <th>o_prop_type</th>\n",
              "      <th>o_zip</th>\n",
              "      <th>loan_id</th>\n",
              "      <th>o_purp</th>\n",
              "      <th>o_term</th>\n",
              "      <th>o_num_brwrs</th>\n",
              "      <th>o_prgm_ind</th>\n",
              "      <th>o_harp_ind</th>\n",
              "      <th>o_pt_val_md</th>\n",
              "      <th>o_int_only</th>\n",
              "      <th>o_ind_sup_cfm</th>\n",
              "    </tr>\n",
              "  </thead>\n",
              "  <tbody>\n",
              "    <tr>\n",
              "      <th>21</th>\n",
              "      <td>694</td>\n",
              "      <td>201103</td>\n",
              "      <td>9</td>\n",
              "      <td>204102</td>\n",
              "      <td>29620.0</td>\n",
              "      <td>25</td>\n",
              "      <td>1</td>\n",
              "      <td>P</td>\n",
              "      <td>115</td>\n",
              "      <td>999</td>\n",
              "      <td>250000</td>\n",
              "      <td>93</td>\n",
              "      <td>5.000</td>\n",
              "      <td>R</td>\n",
              "      <td>N</td>\n",
              "      <td>FRM</td>\n",
              "      <td>MI</td>\n",
              "      <td>SF</td>\n",
              "      <td>48900</td>\n",
              "      <td>F11Q10003033</td>\n",
              "      <td>N</td>\n",
              "      <td>360</td>\n",
              "      <td>2</td>\n",
              "      <td>9</td>\n",
              "      <td>Y</td>\n",
              "      <td>9</td>\n",
              "      <td>N</td>\n",
              "      <td>0</td>\n",
              "    </tr>\n",
              "    <tr>\n",
              "      <th>44</th>\n",
              "      <td>765</td>\n",
              "      <td>201103</td>\n",
              "      <td>9</td>\n",
              "      <td>204102</td>\n",
              "      <td>19804.0</td>\n",
              "      <td>30</td>\n",
              "      <td>1</td>\n",
              "      <td>P</td>\n",
              "      <td>110</td>\n",
              "      <td>999</td>\n",
              "      <td>154000</td>\n",
              "      <td>110</td>\n",
              "      <td>4.875</td>\n",
              "      <td>R</td>\n",
              "      <td>N</td>\n",
              "      <td>FRM</td>\n",
              "      <td>MI</td>\n",
              "      <td>SF</td>\n",
              "      <td>48100</td>\n",
              "      <td>F11Q10004853</td>\n",
              "      <td>N</td>\n",
              "      <td>360</td>\n",
              "      <td>2</td>\n",
              "      <td>9</td>\n",
              "      <td>Y</td>\n",
              "      <td>9</td>\n",
              "      <td>N</td>\n",
              "      <td>0</td>\n",
              "    </tr>\n",
              "    <tr>\n",
              "      <th>62</th>\n",
              "      <td>674</td>\n",
              "      <td>201104</td>\n",
              "      <td>9</td>\n",
              "      <td>204103</td>\n",
              "      <td>28140.0</td>\n",
              "      <td>0</td>\n",
              "      <td>1</td>\n",
              "      <td>P</td>\n",
              "      <td>95</td>\n",
              "      <td>999</td>\n",
              "      <td>86000</td>\n",
              "      <td>47</td>\n",
              "      <td>5.375</td>\n",
              "      <td>R</td>\n",
              "      <td>N</td>\n",
              "      <td>FRM</td>\n",
              "      <td>KS</td>\n",
              "      <td>SF</td>\n",
              "      <td>66000</td>\n",
              "      <td>F11Q10006452</td>\n",
              "      <td>N</td>\n",
              "      <td>360</td>\n",
              "      <td>2</td>\n",
              "      <td>9</td>\n",
              "      <td>Y</td>\n",
              "      <td>9</td>\n",
              "      <td>N</td>\n",
              "      <td>0</td>\n",
              "    </tr>\n",
              "    <tr>\n",
              "      <th>98</th>\n",
              "      <td>717</td>\n",
              "      <td>201103</td>\n",
              "      <td>9</td>\n",
              "      <td>204102</td>\n",
              "      <td>NaN</td>\n",
              "      <td>0</td>\n",
              "      <td>1</td>\n",
              "      <td>P</td>\n",
              "      <td>98</td>\n",
              "      <td>999</td>\n",
              "      <td>269000</td>\n",
              "      <td>98</td>\n",
              "      <td>4.750</td>\n",
              "      <td>R</td>\n",
              "      <td>N</td>\n",
              "      <td>FRM</td>\n",
              "      <td>WA</td>\n",
              "      <td>SF</td>\n",
              "      <td>98000</td>\n",
              "      <td>F11Q10011216</td>\n",
              "      <td>N</td>\n",
              "      <td>360</td>\n",
              "      <td>1</td>\n",
              "      <td>9</td>\n",
              "      <td>Y</td>\n",
              "      <td>9</td>\n",
              "      <td>N</td>\n",
              "      <td>0</td>\n",
              "    </tr>\n",
              "    <tr>\n",
              "      <th>121</th>\n",
              "      <td>743</td>\n",
              "      <td>201103</td>\n",
              "      <td>9</td>\n",
              "      <td>204102</td>\n",
              "      <td>NaN</td>\n",
              "      <td>30</td>\n",
              "      <td>1</td>\n",
              "      <td>P</td>\n",
              "      <td>88</td>\n",
              "      <td>999</td>\n",
              "      <td>217000</td>\n",
              "      <td>88</td>\n",
              "      <td>5.125</td>\n",
              "      <td>R</td>\n",
              "      <td>N</td>\n",
              "      <td>FRM</td>\n",
              "      <td>VT</td>\n",
              "      <td>SF</td>\n",
              "      <td>5800</td>\n",
              "      <td>F11Q10014691</td>\n",
              "      <td>N</td>\n",
              "      <td>360</td>\n",
              "      <td>2</td>\n",
              "      <td>9</td>\n",
              "      <td>Y</td>\n",
              "      <td>9</td>\n",
              "      <td>N</td>\n",
              "      <td>0</td>\n",
              "    </tr>\n",
              "    <tr>\n",
              "      <th>...</th>\n",
              "      <td>...</td>\n",
              "      <td>...</td>\n",
              "      <td>...</td>\n",
              "      <td>...</td>\n",
              "      <td>...</td>\n",
              "      <td>...</td>\n",
              "      <td>...</td>\n",
              "      <td>...</td>\n",
              "      <td>...</td>\n",
              "      <td>...</td>\n",
              "      <td>...</td>\n",
              "      <td>...</td>\n",
              "      <td>...</td>\n",
              "      <td>...</td>\n",
              "      <td>...</td>\n",
              "      <td>...</td>\n",
              "      <td>...</td>\n",
              "      <td>...</td>\n",
              "      <td>...</td>\n",
              "      <td>...</td>\n",
              "      <td>...</td>\n",
              "      <td>...</td>\n",
              "      <td>...</td>\n",
              "      <td>...</td>\n",
              "      <td>...</td>\n",
              "      <td>...</td>\n",
              "      <td>...</td>\n",
              "      <td>...</td>\n",
              "    </tr>\n",
              "    <tr>\n",
              "      <th>73255</th>\n",
              "      <td>683</td>\n",
              "      <td>201808</td>\n",
              "      <td>9</td>\n",
              "      <td>204807</td>\n",
              "      <td>NaN</td>\n",
              "      <td>0</td>\n",
              "      <td>1</td>\n",
              "      <td>I</td>\n",
              "      <td>146</td>\n",
              "      <td>999</td>\n",
              "      <td>153000</td>\n",
              "      <td>146</td>\n",
              "      <td>5.625</td>\n",
              "      <td>R</td>\n",
              "      <td>N</td>\n",
              "      <td>FRM</td>\n",
              "      <td>SC</td>\n",
              "      <td>CO</td>\n",
              "      <td>29500</td>\n",
              "      <td>F18Q20255741</td>\n",
              "      <td>N</td>\n",
              "      <td>360</td>\n",
              "      <td>2</td>\n",
              "      <td>0</td>\n",
              "      <td>Y</td>\n",
              "      <td>2</td>\n",
              "      <td>N</td>\n",
              "      <td>0</td>\n",
              "    </tr>\n",
              "    <tr>\n",
              "      <th>73281</th>\n",
              "      <td>726</td>\n",
              "      <td>201808</td>\n",
              "      <td>9</td>\n",
              "      <td>204807</td>\n",
              "      <td>12580.0</td>\n",
              "      <td>0</td>\n",
              "      <td>1</td>\n",
              "      <td>I</td>\n",
              "      <td>74</td>\n",
              "      <td>999</td>\n",
              "      <td>107000</td>\n",
              "      <td>74</td>\n",
              "      <td>5.375</td>\n",
              "      <td>C</td>\n",
              "      <td>N</td>\n",
              "      <td>FRM</td>\n",
              "      <td>MD</td>\n",
              "      <td>SF</td>\n",
              "      <td>21200</td>\n",
              "      <td>F18Q20350528</td>\n",
              "      <td>N</td>\n",
              "      <td>360</td>\n",
              "      <td>1</td>\n",
              "      <td>0</td>\n",
              "      <td>Y</td>\n",
              "      <td>3</td>\n",
              "      <td>N</td>\n",
              "      <td>0</td>\n",
              "    </tr>\n",
              "    <tr>\n",
              "      <th>73443</th>\n",
              "      <td>563</td>\n",
              "      <td>201811</td>\n",
              "      <td>9</td>\n",
              "      <td>204810</td>\n",
              "      <td>NaN</td>\n",
              "      <td>0</td>\n",
              "      <td>1</td>\n",
              "      <td>I</td>\n",
              "      <td>141</td>\n",
              "      <td>999</td>\n",
              "      <td>63000</td>\n",
              "      <td>141</td>\n",
              "      <td>4.875</td>\n",
              "      <td>R</td>\n",
              "      <td>N</td>\n",
              "      <td>FRM</td>\n",
              "      <td>IL</td>\n",
              "      <td>SF</td>\n",
              "      <td>60600</td>\n",
              "      <td>F18Q30327000</td>\n",
              "      <td>N</td>\n",
              "      <td>360</td>\n",
              "      <td>2</td>\n",
              "      <td>0</td>\n",
              "      <td>Y</td>\n",
              "      <td>2</td>\n",
              "      <td>N</td>\n",
              "      <td>0</td>\n",
              "    </tr>\n",
              "    <tr>\n",
              "      <th>73495</th>\n",
              "      <td>628</td>\n",
              "      <td>201812</td>\n",
              "      <td>9</td>\n",
              "      <td>204811</td>\n",
              "      <td>NaN</td>\n",
              "      <td>0</td>\n",
              "      <td>1</td>\n",
              "      <td>I</td>\n",
              "      <td>82</td>\n",
              "      <td>999</td>\n",
              "      <td>88000</td>\n",
              "      <td>82</td>\n",
              "      <td>5.750</td>\n",
              "      <td>R</td>\n",
              "      <td>N</td>\n",
              "      <td>FRM</td>\n",
              "      <td>AZ</td>\n",
              "      <td>SF</td>\n",
              "      <td>86400</td>\n",
              "      <td>F18Q40011972</td>\n",
              "      <td>N</td>\n",
              "      <td>360</td>\n",
              "      <td>1</td>\n",
              "      <td>0</td>\n",
              "      <td>Y</td>\n",
              "      <td>3</td>\n",
              "      <td>N</td>\n",
              "      <td>0</td>\n",
              "    </tr>\n",
              "    <tr>\n",
              "      <th>73512</th>\n",
              "      <td>645</td>\n",
              "      <td>201812</td>\n",
              "      <td>9</td>\n",
              "      <td>204811</td>\n",
              "      <td>NaN</td>\n",
              "      <td>0</td>\n",
              "      <td>1</td>\n",
              "      <td>P</td>\n",
              "      <td>106</td>\n",
              "      <td>999</td>\n",
              "      <td>291000</td>\n",
              "      <td>106</td>\n",
              "      <td>4.990</td>\n",
              "      <td>R</td>\n",
              "      <td>N</td>\n",
              "      <td>FRM</td>\n",
              "      <td>NC</td>\n",
              "      <td>PU</td>\n",
              "      <td>28400</td>\n",
              "      <td>F18Q40062364</td>\n",
              "      <td>N</td>\n",
              "      <td>360</td>\n",
              "      <td>2</td>\n",
              "      <td>0</td>\n",
              "      <td>Y</td>\n",
              "      <td>3</td>\n",
              "      <td>N</td>\n",
              "      <td>0</td>\n",
              "    </tr>\n",
              "  </tbody>\n",
              "</table>\n",
              "<p>29365 rows × 28 columns</p>\n",
              "</div>"
            ],
            "text/plain": [
              "       o_credit_score  o_init_pay_d  ... o_int_only  o_ind_sup_cfm\n",
              "21                694        201103  ...          N              0\n",
              "44                765        201103  ...          N              0\n",
              "62                674        201104  ...          N              0\n",
              "98                717        201103  ...          N              0\n",
              "121               743        201103  ...          N              0\n",
              "...               ...           ...  ...        ...            ...\n",
              "73255             683        201808  ...          N              0\n",
              "73281             726        201808  ...          N              0\n",
              "73443             563        201811  ...          N              0\n",
              "73495             628        201812  ...          N              0\n",
              "73512             645        201812  ...          N              0\n",
              "\n",
              "[29365 rows x 28 columns]"
            ]
          },
          "metadata": {
            "tags": []
          },
          "execution_count": 54
        }
      ]
    },
    {
      "cell_type": "code",
      "metadata": {
        "id": "aHwJa1Ef5svO"
      },
      "source": [
        "## remove loan idxes that have unknown dti\n",
        "loan_idxes_to_del.update(df_orig.loc[df_orig['o_dti']==999, 'loan_id'].values.tolist())"
      ],
      "execution_count": null,
      "outputs": []
    },
    {
      "cell_type": "markdown",
      "metadata": {
        "id": "T1GldNbiZz1j"
      },
      "source": [
        "#### Occupancy Status"
      ]
    },
    {
      "cell_type": "code",
      "metadata": {
        "colab": {
          "base_uri": "https://localhost:8080/"
        },
        "id": "EGGHE2TaZzQC",
        "outputId": "ba7d88a5-2326-4e7f-ac4d-322672a36cfd"
      },
      "source": [
        "df_orig['o_occ_stat'].value_counts(dropna=False)"
      ],
      "execution_count": null,
      "outputs": [
        {
          "output_type": "execute_result",
          "data": {
            "text/plain": [
              "P    48169\n",
              "I     6009\n",
              "S     1696\n",
              "Name: o_occ_stat, dtype: int64"
            ]
          },
          "metadata": {
            "tags": []
          },
          "execution_count": 56
        }
      ]
    },
    {
      "cell_type": "code",
      "metadata": {
        "id": "g-Pa00zIbBxj"
      },
      "source": [
        "df_orig.loc[df_orig['o_occ_stat']=='9', 'o_occ_stat'] = 'unknown'"
      ],
      "execution_count": null,
      "outputs": []
    },
    {
      "cell_type": "code",
      "metadata": {
        "colab": {
          "base_uri": "https://localhost:8080/"
        },
        "id": "2KQyXWwUbONT",
        "outputId": "b5154b17-8914-47f1-f752-45043add62f5"
      },
      "source": [
        "df_orig['o_occ_stat'].value_counts(dropna=False)"
      ],
      "execution_count": null,
      "outputs": [
        {
          "output_type": "execute_result",
          "data": {
            "text/plain": [
              "P    48169\n",
              "I     6009\n",
              "S     1696\n",
              "Name: o_occ_stat, dtype: int64"
            ]
          },
          "metadata": {
            "tags": []
          },
          "execution_count": 58
        }
      ]
    },
    {
      "cell_type": "markdown",
      "metadata": {
        "id": "uhJARvHpbTQm"
      },
      "source": [
        "#### Amortization Type"
      ]
    },
    {
      "cell_type": "code",
      "metadata": {
        "colab": {
          "base_uri": "https://localhost:8080/"
        },
        "id": "tvOR7X2uhVly",
        "outputId": "01eb3265-7b52-4c49-a7a7-9ec368b4096b"
      },
      "source": [
        "df_orig.head()"
      ],
      "execution_count": null,
      "outputs": [
        {
          "output_type": "execute_result",
          "data": {
            "text/html": [
              "<div>\n",
              "<style scoped>\n",
              "    .dataframe tbody tr th:only-of-type {\n",
              "        vertical-align: middle;\n",
              "    }\n",
              "\n",
              "    .dataframe tbody tr th {\n",
              "        vertical-align: top;\n",
              "    }\n",
              "\n",
              "    .dataframe thead th {\n",
              "        text-align: right;\n",
              "    }\n",
              "</style>\n",
              "<table border=\"1\" class=\"dataframe\">\n",
              "  <thead>\n",
              "    <tr style=\"text-align: right;\">\n",
              "      <th></th>\n",
              "      <th>o_credit_score</th>\n",
              "      <th>o_init_pay_d</th>\n",
              "      <th>o_first_flag</th>\n",
              "      <th>o_mat_d</th>\n",
              "      <th>o_msa</th>\n",
              "      <th>o_mi</th>\n",
              "      <th>o_units</th>\n",
              "      <th>o_occ_stat</th>\n",
              "      <th>o_cltv</th>\n",
              "      <th>o_dti</th>\n",
              "      <th>o_upb</th>\n",
              "      <th>o_ltv</th>\n",
              "      <th>o_int_rate</th>\n",
              "      <th>o_chan</th>\n",
              "      <th>o_ppm</th>\n",
              "      <th>o_amtz_type</th>\n",
              "      <th>o_prop_st</th>\n",
              "      <th>o_prop_type</th>\n",
              "      <th>o_zip</th>\n",
              "      <th>loan_id</th>\n",
              "      <th>o_purp</th>\n",
              "      <th>o_term</th>\n",
              "      <th>o_num_brwrs</th>\n",
              "      <th>o_prgm_ind</th>\n",
              "      <th>o_harp_ind</th>\n",
              "      <th>o_pt_val_md</th>\n",
              "      <th>o_int_only</th>\n",
              "      <th>o_ind_sup_cfm</th>\n",
              "    </tr>\n",
              "  </thead>\n",
              "  <tbody>\n",
              "    <tr>\n",
              "      <th>6</th>\n",
              "      <td>767</td>\n",
              "      <td>201103</td>\n",
              "      <td>9</td>\n",
              "      <td>204102</td>\n",
              "      <td>38900.0</td>\n",
              "      <td>25</td>\n",
              "      <td>1</td>\n",
              "      <td>P</td>\n",
              "      <td>90</td>\n",
              "      <td>39</td>\n",
              "      <td>261000</td>\n",
              "      <td>90</td>\n",
              "      <td>4.375</td>\n",
              "      <td>R</td>\n",
              "      <td>N</td>\n",
              "      <td>FRM</td>\n",
              "      <td>OR</td>\n",
              "      <td>SF</td>\n",
              "      <td>97200</td>\n",
              "      <td>F11Q10001082</td>\n",
              "      <td>N</td>\n",
              "      <td>360</td>\n",
              "      <td>1</td>\n",
              "      <td>9</td>\n",
              "      <td>NaN</td>\n",
              "      <td>9</td>\n",
              "      <td>N</td>\n",
              "      <td>0</td>\n",
              "    </tr>\n",
              "    <tr>\n",
              "      <th>7</th>\n",
              "      <td>710</td>\n",
              "      <td>201103</td>\n",
              "      <td>9</td>\n",
              "      <td>204102</td>\n",
              "      <td>38900.0</td>\n",
              "      <td>0</td>\n",
              "      <td>1</td>\n",
              "      <td>P</td>\n",
              "      <td>95</td>\n",
              "      <td>33</td>\n",
              "      <td>224000</td>\n",
              "      <td>80</td>\n",
              "      <td>4.375</td>\n",
              "      <td>R</td>\n",
              "      <td>N</td>\n",
              "      <td>FRM</td>\n",
              "      <td>OR</td>\n",
              "      <td>SF</td>\n",
              "      <td>97200</td>\n",
              "      <td>F11Q10001104</td>\n",
              "      <td>N</td>\n",
              "      <td>360</td>\n",
              "      <td>1</td>\n",
              "      <td>9</td>\n",
              "      <td>NaN</td>\n",
              "      <td>9</td>\n",
              "      <td>N</td>\n",
              "      <td>0</td>\n",
              "    </tr>\n",
              "    <tr>\n",
              "      <th>9</th>\n",
              "      <td>739</td>\n",
              "      <td>201103</td>\n",
              "      <td>9</td>\n",
              "      <td>204102</td>\n",
              "      <td>48900.0</td>\n",
              "      <td>30</td>\n",
              "      <td>1</td>\n",
              "      <td>P</td>\n",
              "      <td>95</td>\n",
              "      <td>29</td>\n",
              "      <td>165000</td>\n",
              "      <td>95</td>\n",
              "      <td>4.375</td>\n",
              "      <td>R</td>\n",
              "      <td>N</td>\n",
              "      <td>FRM</td>\n",
              "      <td>NC</td>\n",
              "      <td>SF</td>\n",
              "      <td>28400</td>\n",
              "      <td>F11Q10001291</td>\n",
              "      <td>N</td>\n",
              "      <td>360</td>\n",
              "      <td>2</td>\n",
              "      <td>9</td>\n",
              "      <td>NaN</td>\n",
              "      <td>9</td>\n",
              "      <td>N</td>\n",
              "      <td>0</td>\n",
              "    </tr>\n",
              "    <tr>\n",
              "      <th>11</th>\n",
              "      <td>769</td>\n",
              "      <td>201103</td>\n",
              "      <td>9</td>\n",
              "      <td>204102</td>\n",
              "      <td>19500.0</td>\n",
              "      <td>0</td>\n",
              "      <td>1</td>\n",
              "      <td>P</td>\n",
              "      <td>72</td>\n",
              "      <td>23</td>\n",
              "      <td>144000</td>\n",
              "      <td>72</td>\n",
              "      <td>4.625</td>\n",
              "      <td>R</td>\n",
              "      <td>N</td>\n",
              "      <td>FRM</td>\n",
              "      <td>IL</td>\n",
              "      <td>SF</td>\n",
              "      <td>62500</td>\n",
              "      <td>F11Q10001944</td>\n",
              "      <td>C</td>\n",
              "      <td>360</td>\n",
              "      <td>2</td>\n",
              "      <td>9</td>\n",
              "      <td>NaN</td>\n",
              "      <td>9</td>\n",
              "      <td>N</td>\n",
              "      <td>0</td>\n",
              "    </tr>\n",
              "    <tr>\n",
              "      <th>12</th>\n",
              "      <td>784</td>\n",
              "      <td>201103</td>\n",
              "      <td>9</td>\n",
              "      <td>204102</td>\n",
              "      <td>30700.0</td>\n",
              "      <td>0</td>\n",
              "      <td>1</td>\n",
              "      <td>P</td>\n",
              "      <td>83</td>\n",
              "      <td>20</td>\n",
              "      <td>142000</td>\n",
              "      <td>77</td>\n",
              "      <td>4.625</td>\n",
              "      <td>R</td>\n",
              "      <td>N</td>\n",
              "      <td>FRM</td>\n",
              "      <td>NE</td>\n",
              "      <td>SF</td>\n",
              "      <td>68500</td>\n",
              "      <td>F11Q10002098</td>\n",
              "      <td>N</td>\n",
              "      <td>360</td>\n",
              "      <td>2</td>\n",
              "      <td>9</td>\n",
              "      <td>NaN</td>\n",
              "      <td>9</td>\n",
              "      <td>N</td>\n",
              "      <td>0</td>\n",
              "    </tr>\n",
              "  </tbody>\n",
              "</table>\n",
              "</div>"
            ],
            "text/plain": [
              "    o_credit_score  o_init_pay_d  ... o_int_only  o_ind_sup_cfm\n",
              "6              767        201103  ...          N              0\n",
              "7              710        201103  ...          N              0\n",
              "9              739        201103  ...          N              0\n",
              "11             769        201103  ...          N              0\n",
              "12             784        201103  ...          N              0\n",
              "\n",
              "[5 rows x 28 columns]"
            ]
          },
          "metadata": {
            "tags": []
          },
          "execution_count": 59
        }
      ]
    },
    {
      "cell_type": "code",
      "metadata": {
        "colab": {
          "base_uri": "https://localhost:8080/"
        },
        "id": "58k3k2PxbO_D",
        "outputId": "93bb3831-e58d-4eba-bb49-c105350db9a1"
      },
      "source": [
        "df_orig['o_amtz_type'].value_counts(dropna=False)"
      ],
      "execution_count": null,
      "outputs": [
        {
          "output_type": "execute_result",
          "data": {
            "text/plain": [
              "FRM    55874\n",
              "Name: o_amtz_type, dtype: int64"
            ]
          },
          "metadata": {
            "tags": []
          },
          "execution_count": 60
        }
      ]
    },
    {
      "cell_type": "code",
      "metadata": {
        "id": "S5pqtPBlDRJT"
      },
      "source": [
        "cols_to_del.append('o_amtz_type')"
      ],
      "execution_count": null,
      "outputs": []
    },
    {
      "cell_type": "markdown",
      "metadata": {
        "id": "aWNy3MbhDXRh"
      },
      "source": [
        "#### Mortgage Insurance Percentage"
      ]
    },
    {
      "cell_type": "code",
      "metadata": {
        "colab": {
          "base_uri": "https://localhost:8080/"
        },
        "id": "YTjcyYs3DW37",
        "outputId": "88edba5d-b895-44d8-bb5a-ab5efca6dabe"
      },
      "source": [
        "df_orig['o_mi'].describe()"
      ],
      "execution_count": null,
      "outputs": [
        {
          "output_type": "execute_result",
          "data": {
            "text/plain": [
              "count    55874.000000\n",
              "mean         7.450460\n",
              "std         12.122905\n",
              "min          0.000000\n",
              "25%          0.000000\n",
              "50%          0.000000\n",
              "75%         20.000000\n",
              "max         40.000000\n",
              "Name: o_mi, dtype: float64"
            ]
          },
          "metadata": {
            "tags": []
          },
          "execution_count": 62
        }
      ]
    },
    {
      "cell_type": "code",
      "metadata": {
        "id": "BeZhoB_eDlrY"
      },
      "source": [
        "## mark 999 as missing value\n",
        "df_orig.loc[df_orig['o_mi']==999, 'o_mi'] = np.nan\n",
        "df_orig.loc[df_orig['o_mi'].isnull(), 'o_mi'] = df_orig['o_mi'].fillna(df_orig['o_mi'].median())"
      ],
      "execution_count": null,
      "outputs": []
    },
    {
      "cell_type": "markdown",
      "metadata": {
        "id": "w9JieyexPw27"
      },
      "source": [
        "#### Channel"
      ]
    },
    {
      "cell_type": "code",
      "metadata": {
        "colab": {
          "base_uri": "https://localhost:8080/"
        },
        "id": "fI9RNoMsEESq",
        "outputId": "1f44f5d7-2443-4106-f1f3-1c8e7eb908d9"
      },
      "source": [
        "df_orig['o_chan'].value_counts(dropna=False)"
      ],
      "execution_count": null,
      "outputs": [
        {
          "output_type": "execute_result",
          "data": {
            "text/plain": [
              "R    40581\n",
              "C    11594\n",
              "B     3699\n",
              "Name: o_chan, dtype: int64"
            ]
          },
          "metadata": {
            "tags": []
          },
          "execution_count": 64
        }
      ]
    },
    {
      "cell_type": "markdown",
      "metadata": {
        "id": "A6j4TWgrY9KM"
      },
      "source": [
        "#### First Time Homebuyer Flag"
      ]
    },
    {
      "cell_type": "code",
      "metadata": {
        "colab": {
          "base_uri": "https://localhost:8080/"
        },
        "id": "S0a4xxC7Y8Im",
        "outputId": "38297e41-d4e2-487a-c7ff-8d8ca9db9ef7"
      },
      "source": [
        "df_orig['o_first_flag'].value_counts(dropna=False)"
      ],
      "execution_count": null,
      "outputs": [
        {
          "output_type": "execute_result",
          "data": {
            "text/plain": [
              "9    43641\n",
              "N     7258\n",
              "Y     4975\n",
              "Name: o_first_flag, dtype: int64"
            ]
          },
          "metadata": {
            "tags": []
          },
          "execution_count": 65
        }
      ]
    },
    {
      "cell_type": "code",
      "metadata": {
        "id": "eLuNlztrZ_H2"
      },
      "source": [
        "df_orig.loc[df_orig['o_first_flag']=='9', 'o_first_flag'] = 'unknown'"
      ],
      "execution_count": null,
      "outputs": []
    },
    {
      "cell_type": "markdown",
      "metadata": {
        "id": "hg9NgBWcbqqp"
      },
      "source": [
        "#### Interest Only (I/O) Indicator"
      ]
    },
    {
      "cell_type": "code",
      "metadata": {
        "colab": {
          "base_uri": "https://localhost:8080/"
        },
        "id": "Q4G9nElXaUA_",
        "outputId": "fd2f47f3-d9e8-48f9-fe76-45f65657f90e"
      },
      "source": [
        "df_orig['o_int_only'].value_counts(dropna=False)"
      ],
      "execution_count": null,
      "outputs": [
        {
          "output_type": "execute_result",
          "data": {
            "text/plain": [
              "N    55874\n",
              "Name: o_int_only, dtype: int64"
            ]
          },
          "metadata": {
            "tags": []
          },
          "execution_count": 67
        }
      ]
    },
    {
      "cell_type": "code",
      "metadata": {
        "id": "b9kRH_TJ6jtW"
      },
      "source": [
        "cols_to_del.append('o_int_only')"
      ],
      "execution_count": null,
      "outputs": []
    },
    {
      "cell_type": "markdown",
      "metadata": {
        "id": "eq2GYdJt67oR"
      },
      "source": [
        "#### HARP Indicator"
      ]
    },
    {
      "cell_type": "code",
      "metadata": {
        "colab": {
          "base_uri": "https://localhost:8080/"
        },
        "id": "L7k-8ZEG69RK",
        "outputId": "775b2596-cbe0-4cbd-a447-92f356db9881"
      },
      "source": [
        "df_orig['o_harp_ind'].value_counts(dropna=False)"
      ],
      "execution_count": null,
      "outputs": [
        {
          "output_type": "execute_result",
          "data": {
            "text/plain": [
              "Y      29363\n",
              "NaN    26511\n",
              "Name: o_harp_ind, dtype: int64"
            ]
          },
          "metadata": {
            "tags": []
          },
          "execution_count": 69
        }
      ]
    },
    {
      "cell_type": "code",
      "metadata": {
        "id": "7VsbkKGh7Fe5"
      },
      "source": [
        "## remove loan idxes that are HARP \n",
        "loan_idxes_to_del.update(df_orig.loc[df_orig['o_harp_ind']=='Y', 'loan_id'].values.tolist())\n",
        "cols_to_del.append('o_harp_ind')"
      ],
      "execution_count": null,
      "outputs": []
    },
    {
      "cell_type": "markdown",
      "metadata": {
        "id": "c25mWoqEgWsk"
      },
      "source": [
        "#### Delete columns"
      ]
    },
    {
      "cell_type": "code",
      "metadata": {
        "id": "mgdejF6Sbxo-"
      },
      "source": [
        "# cols_to_del\n",
        "df_orig.drop(columns=cols_to_del, inplace=True, errors='ignore')"
      ],
      "execution_count": null,
      "outputs": []
    },
    {
      "cell_type": "markdown",
      "metadata": {
        "id": "JnEpdheWgnkB"
      },
      "source": [
        "#### Check NA values"
      ]
    },
    {
      "cell_type": "code",
      "metadata": {
        "colab": {
          "base_uri": "https://localhost:8080/"
        },
        "id": "-CDb8mmNgZU2",
        "outputId": "ab780214-face-442d-997c-b967a2bfab00"
      },
      "source": [
        "percent_missing = pd.DataFrame(df_orig.isnull().sum()*100/ len(df_orig), columns=['missing percentage'])\n",
        "percent_missing.sort_values(by='missing percentage', ascending=False, inplace=True)\n",
        "percent_missing"
      ],
      "execution_count": null,
      "outputs": [
        {
          "output_type": "execute_result",
          "data": {
            "text/html": [
              "<div>\n",
              "<style scoped>\n",
              "    .dataframe tbody tr th:only-of-type {\n",
              "        vertical-align: middle;\n",
              "    }\n",
              "\n",
              "    .dataframe tbody tr th {\n",
              "        vertical-align: top;\n",
              "    }\n",
              "\n",
              "    .dataframe thead th {\n",
              "        text-align: right;\n",
              "    }\n",
              "</style>\n",
              "<table border=\"1\" class=\"dataframe\">\n",
              "  <thead>\n",
              "    <tr style=\"text-align: right;\">\n",
              "      <th></th>\n",
              "      <th>missing percentage</th>\n",
              "    </tr>\n",
              "  </thead>\n",
              "  <tbody>\n",
              "    <tr>\n",
              "      <th>o_credit_score</th>\n",
              "      <td>0.0</td>\n",
              "    </tr>\n",
              "    <tr>\n",
              "      <th>o_init_pay_d</th>\n",
              "      <td>0.0</td>\n",
              "    </tr>\n",
              "    <tr>\n",
              "      <th>o_pt_val_md</th>\n",
              "      <td>0.0</td>\n",
              "    </tr>\n",
              "    <tr>\n",
              "      <th>o_prgm_ind</th>\n",
              "      <td>0.0</td>\n",
              "    </tr>\n",
              "    <tr>\n",
              "      <th>o_num_brwrs</th>\n",
              "      <td>0.0</td>\n",
              "    </tr>\n",
              "    <tr>\n",
              "      <th>o_term</th>\n",
              "      <td>0.0</td>\n",
              "    </tr>\n",
              "    <tr>\n",
              "      <th>o_purp</th>\n",
              "      <td>0.0</td>\n",
              "    </tr>\n",
              "    <tr>\n",
              "      <th>loan_id</th>\n",
              "      <td>0.0</td>\n",
              "    </tr>\n",
              "    <tr>\n",
              "      <th>o_zip</th>\n",
              "      <td>0.0</td>\n",
              "    </tr>\n",
              "    <tr>\n",
              "      <th>o_prop_type</th>\n",
              "      <td>0.0</td>\n",
              "    </tr>\n",
              "    <tr>\n",
              "      <th>o_prop_st</th>\n",
              "      <td>0.0</td>\n",
              "    </tr>\n",
              "    <tr>\n",
              "      <th>o_chan</th>\n",
              "      <td>0.0</td>\n",
              "    </tr>\n",
              "    <tr>\n",
              "      <th>o_int_rate</th>\n",
              "      <td>0.0</td>\n",
              "    </tr>\n",
              "    <tr>\n",
              "      <th>o_ltv</th>\n",
              "      <td>0.0</td>\n",
              "    </tr>\n",
              "    <tr>\n",
              "      <th>o_upb</th>\n",
              "      <td>0.0</td>\n",
              "    </tr>\n",
              "    <tr>\n",
              "      <th>o_dti</th>\n",
              "      <td>0.0</td>\n",
              "    </tr>\n",
              "    <tr>\n",
              "      <th>o_occ_stat</th>\n",
              "      <td>0.0</td>\n",
              "    </tr>\n",
              "    <tr>\n",
              "      <th>o_units</th>\n",
              "      <td>0.0</td>\n",
              "    </tr>\n",
              "    <tr>\n",
              "      <th>o_mi</th>\n",
              "      <td>0.0</td>\n",
              "    </tr>\n",
              "    <tr>\n",
              "      <th>o_mat_d</th>\n",
              "      <td>0.0</td>\n",
              "    </tr>\n",
              "    <tr>\n",
              "      <th>o_first_flag</th>\n",
              "      <td>0.0</td>\n",
              "    </tr>\n",
              "    <tr>\n",
              "      <th>o_ind_sup_cfm</th>\n",
              "      <td>0.0</td>\n",
              "    </tr>\n",
              "  </tbody>\n",
              "</table>\n",
              "</div>"
            ],
            "text/plain": [
              "                missing percentage\n",
              "o_credit_score                 0.0\n",
              "o_init_pay_d                   0.0\n",
              "o_pt_val_md                    0.0\n",
              "o_prgm_ind                     0.0\n",
              "o_num_brwrs                    0.0\n",
              "o_term                         0.0\n",
              "o_purp                         0.0\n",
              "loan_id                        0.0\n",
              "o_zip                          0.0\n",
              "o_prop_type                    0.0\n",
              "o_prop_st                      0.0\n",
              "o_chan                         0.0\n",
              "o_int_rate                     0.0\n",
              "o_ltv                          0.0\n",
              "o_upb                          0.0\n",
              "o_dti                          0.0\n",
              "o_occ_stat                     0.0\n",
              "o_units                        0.0\n",
              "o_mi                           0.0\n",
              "o_mat_d                        0.0\n",
              "o_first_flag                   0.0\n",
              "o_ind_sup_cfm                  0.0"
            ]
          },
          "metadata": {
            "tags": []
          },
          "execution_count": 72
        }
      ]
    },
    {
      "cell_type": "markdown",
      "metadata": {
        "id": "4aHgzez-ljsO"
      },
      "source": [
        "### Select features"
      ]
    },
    {
      "cell_type": "code",
      "metadata": {
        "colab": {
          "base_uri": "https://localhost:8080/"
        },
        "id": "a3rSunDFn2Fw",
        "outputId": "d32a9afa-8595-41ba-b76d-767cb3e2a2cc"
      },
      "source": [
        "df_orig.columns"
      ],
      "execution_count": null,
      "outputs": [
        {
          "output_type": "execute_result",
          "data": {
            "text/plain": [
              "Index(['o_credit_score', 'o_init_pay_d', 'o_first_flag', 'o_mat_d', 'o_mi',\n",
              "       'o_units', 'o_occ_stat', 'o_dti', 'o_upb', 'o_ltv', 'o_int_rate',\n",
              "       'o_chan', 'o_prop_st', 'o_prop_type', 'o_zip', 'loan_id', 'o_purp',\n",
              "       'o_term', 'o_num_brwrs', 'o_prgm_ind', 'o_pt_val_md', 'o_ind_sup_cfm'],\n",
              "      dtype='object')"
            ]
          },
          "metadata": {
            "tags": []
          },
          "execution_count": 73
        }
      ]
    },
    {
      "cell_type": "code",
      "metadata": {
        "id": "cVTnfgkKgo7n"
      },
      "source": [
        "keep_features = [\n",
        "                 ## loan\n",
        "                 'loan_id', 'o_init_pay_d', 'o_term', \n",
        "                 'o_upb', 'o_mi', 'o_ltv', 'o_int_rate', \n",
        "                 'o_chan', 'o_purp', 'o_ind_sup_cfm',\n",
        "                 ## borrower\n",
        "                 'o_credit_score', 'o_first_flag', \n",
        "                 'o_dti', 'o_num_brwrs',\n",
        "                 ## property\n",
        "                 'o_units', 'o_occ_stat', 'o_prop_st',\n",
        "                 'o_prop_type', 'o_pt_val_md'\n",
        "                 ]"
      ],
      "execution_count": null,
      "outputs": []
    },
    {
      "cell_type": "code",
      "metadata": {
        "colab": {
          "base_uri": "https://localhost:8080/"
        },
        "id": "9yraypstntmN",
        "outputId": "9d1ec772-e08c-469d-84b6-ba684d062f7f"
      },
      "source": [
        "df_orig = df_orig.loc[:, keep_features]\n",
        "df_orig.head()"
      ],
      "execution_count": null,
      "outputs": [
        {
          "output_type": "execute_result",
          "data": {
            "text/html": [
              "<div>\n",
              "<style scoped>\n",
              "    .dataframe tbody tr th:only-of-type {\n",
              "        vertical-align: middle;\n",
              "    }\n",
              "\n",
              "    .dataframe tbody tr th {\n",
              "        vertical-align: top;\n",
              "    }\n",
              "\n",
              "    .dataframe thead th {\n",
              "        text-align: right;\n",
              "    }\n",
              "</style>\n",
              "<table border=\"1\" class=\"dataframe\">\n",
              "  <thead>\n",
              "    <tr style=\"text-align: right;\">\n",
              "      <th></th>\n",
              "      <th>loan_id</th>\n",
              "      <th>o_init_pay_d</th>\n",
              "      <th>o_term</th>\n",
              "      <th>o_upb</th>\n",
              "      <th>o_mi</th>\n",
              "      <th>o_ltv</th>\n",
              "      <th>o_int_rate</th>\n",
              "      <th>o_chan</th>\n",
              "      <th>o_purp</th>\n",
              "      <th>o_ind_sup_cfm</th>\n",
              "      <th>o_credit_score</th>\n",
              "      <th>o_first_flag</th>\n",
              "      <th>o_dti</th>\n",
              "      <th>o_num_brwrs</th>\n",
              "      <th>o_units</th>\n",
              "      <th>o_occ_stat</th>\n",
              "      <th>o_prop_st</th>\n",
              "      <th>o_prop_type</th>\n",
              "      <th>o_pt_val_md</th>\n",
              "    </tr>\n",
              "  </thead>\n",
              "  <tbody>\n",
              "    <tr>\n",
              "      <th>6</th>\n",
              "      <td>F11Q10001082</td>\n",
              "      <td>201103</td>\n",
              "      <td>360</td>\n",
              "      <td>261000</td>\n",
              "      <td>25.0</td>\n",
              "      <td>90</td>\n",
              "      <td>4.375</td>\n",
              "      <td>R</td>\n",
              "      <td>N</td>\n",
              "      <td>0</td>\n",
              "      <td>767</td>\n",
              "      <td>unknown</td>\n",
              "      <td>39</td>\n",
              "      <td>1</td>\n",
              "      <td>1</td>\n",
              "      <td>P</td>\n",
              "      <td>OR</td>\n",
              "      <td>SF</td>\n",
              "      <td>9</td>\n",
              "    </tr>\n",
              "    <tr>\n",
              "      <th>7</th>\n",
              "      <td>F11Q10001104</td>\n",
              "      <td>201103</td>\n",
              "      <td>360</td>\n",
              "      <td>224000</td>\n",
              "      <td>0.0</td>\n",
              "      <td>80</td>\n",
              "      <td>4.375</td>\n",
              "      <td>R</td>\n",
              "      <td>N</td>\n",
              "      <td>0</td>\n",
              "      <td>710</td>\n",
              "      <td>unknown</td>\n",
              "      <td>33</td>\n",
              "      <td>1</td>\n",
              "      <td>1</td>\n",
              "      <td>P</td>\n",
              "      <td>OR</td>\n",
              "      <td>SF</td>\n",
              "      <td>9</td>\n",
              "    </tr>\n",
              "    <tr>\n",
              "      <th>9</th>\n",
              "      <td>F11Q10001291</td>\n",
              "      <td>201103</td>\n",
              "      <td>360</td>\n",
              "      <td>165000</td>\n",
              "      <td>30.0</td>\n",
              "      <td>95</td>\n",
              "      <td>4.375</td>\n",
              "      <td>R</td>\n",
              "      <td>N</td>\n",
              "      <td>0</td>\n",
              "      <td>739</td>\n",
              "      <td>unknown</td>\n",
              "      <td>29</td>\n",
              "      <td>2</td>\n",
              "      <td>1</td>\n",
              "      <td>P</td>\n",
              "      <td>NC</td>\n",
              "      <td>SF</td>\n",
              "      <td>9</td>\n",
              "    </tr>\n",
              "    <tr>\n",
              "      <th>11</th>\n",
              "      <td>F11Q10001944</td>\n",
              "      <td>201103</td>\n",
              "      <td>360</td>\n",
              "      <td>144000</td>\n",
              "      <td>0.0</td>\n",
              "      <td>72</td>\n",
              "      <td>4.625</td>\n",
              "      <td>R</td>\n",
              "      <td>C</td>\n",
              "      <td>0</td>\n",
              "      <td>769</td>\n",
              "      <td>unknown</td>\n",
              "      <td>23</td>\n",
              "      <td>2</td>\n",
              "      <td>1</td>\n",
              "      <td>P</td>\n",
              "      <td>IL</td>\n",
              "      <td>SF</td>\n",
              "      <td>9</td>\n",
              "    </tr>\n",
              "    <tr>\n",
              "      <th>12</th>\n",
              "      <td>F11Q10002098</td>\n",
              "      <td>201103</td>\n",
              "      <td>360</td>\n",
              "      <td>142000</td>\n",
              "      <td>0.0</td>\n",
              "      <td>77</td>\n",
              "      <td>4.625</td>\n",
              "      <td>R</td>\n",
              "      <td>N</td>\n",
              "      <td>0</td>\n",
              "      <td>784</td>\n",
              "      <td>unknown</td>\n",
              "      <td>20</td>\n",
              "      <td>2</td>\n",
              "      <td>1</td>\n",
              "      <td>P</td>\n",
              "      <td>NE</td>\n",
              "      <td>SF</td>\n",
              "      <td>9</td>\n",
              "    </tr>\n",
              "  </tbody>\n",
              "</table>\n",
              "</div>"
            ],
            "text/plain": [
              "         loan_id  o_init_pay_d  o_term  ...  o_prop_st  o_prop_type  o_pt_val_md\n",
              "6   F11Q10001082        201103     360  ...         OR           SF            9\n",
              "7   F11Q10001104        201103     360  ...         OR           SF            9\n",
              "9   F11Q10001291        201103     360  ...         NC           SF            9\n",
              "11  F11Q10001944        201103     360  ...         IL           SF            9\n",
              "12  F11Q10002098        201103     360  ...         NE           SF            9\n",
              "\n",
              "[5 rows x 19 columns]"
            ]
          },
          "metadata": {
            "tags": []
          },
          "execution_count": 75
        }
      ]
    },
    {
      "cell_type": "code",
      "metadata": {
        "colab": {
          "base_uri": "https://localhost:8080/"
        },
        "id": "6ATF8uy2Rg_V",
        "outputId": "7af02a06-094a-4797-a285-68f259772511"
      },
      "source": [
        "df_orig.shape"
      ],
      "execution_count": null,
      "outputs": [
        {
          "output_type": "execute_result",
          "data": {
            "text/plain": [
              "(55874, 19)"
            ]
          },
          "metadata": {
            "tags": []
          },
          "execution_count": 76
        }
      ]
    },
    {
      "cell_type": "code",
      "metadata": {
        "colab": {
          "base_uri": "https://localhost:8080/"
        },
        "id": "etkJn8LUTA2l",
        "outputId": "bd84db0d-e76a-483d-cf25-f54065ef2e17"
      },
      "source": [
        "selected_loan_idxes = set(df_orig['loan_id'].unique().tolist())\n",
        "len(selected_loan_idxes)"
      ],
      "execution_count": null,
      "outputs": [
        {
          "output_type": "execute_result",
          "data": {
            "text/plain": [
              "55874"
            ]
          },
          "metadata": {
            "tags": []
          },
          "execution_count": 77
        }
      ]
    },
    {
      "cell_type": "markdown",
      "metadata": {
        "id": "XaqxKMn2rg_t"
      },
      "source": [
        "## Data Preprocessing for Monthly Performance Data"
      ]
    },
    {
      "cell_type": "code",
      "metadata": {
        "colab": {
          "base_uri": "https://localhost:8080/"
        },
        "id": "O22UcbxRx_3J",
        "outputId": "e4e9fc9e-6daa-4281-9bfa-a1facacd5a04"
      },
      "source": [
        "percent_missing = pd.DataFrame(df_monthly.isnull().sum()*100/ len(df_monthly), columns=['missing percentage'])\n",
        "percent_missing.sort_values(by='missing percentage', ascending=False, inplace=True)\n",
        "percent_missing"
      ],
      "execution_count": null,
      "outputs": [
        {
          "output_type": "execute_result",
          "data": {
            "text/html": [
              "<div>\n",
              "<style scoped>\n",
              "    .dataframe tbody tr th:only-of-type {\n",
              "        vertical-align: middle;\n",
              "    }\n",
              "\n",
              "    .dataframe tbody tr th {\n",
              "        vertical-align: top;\n",
              "    }\n",
              "\n",
              "    .dataframe thead th {\n",
              "        text-align: right;\n",
              "    }\n",
              "</style>\n",
              "<table border=\"1\" class=\"dataframe\">\n",
              "  <thead>\n",
              "    <tr style=\"text-align: right;\">\n",
              "      <th></th>\n",
              "      <th>missing percentage</th>\n",
              "    </tr>\n",
              "  </thead>\n",
              "  <tbody>\n",
              "    <tr>\n",
              "      <th>delq_by_disaster</th>\n",
              "      <td>99.791081</td>\n",
              "    </tr>\n",
              "    <tr>\n",
              "      <th>zero_bal_code</th>\n",
              "      <td>97.837801</td>\n",
              "    </tr>\n",
              "    <tr>\n",
              "      <th>est_ltv</th>\n",
              "      <td>79.596493</td>\n",
              "    </tr>\n",
              "    <tr>\n",
              "      <th>loan_id</th>\n",
              "      <td>0.000000</td>\n",
              "    </tr>\n",
              "    <tr>\n",
              "      <th>rep_period</th>\n",
              "      <td>0.000000</td>\n",
              "    </tr>\n",
              "    <tr>\n",
              "      <th>actual_upb</th>\n",
              "      <td>0.000000</td>\n",
              "    </tr>\n",
              "    <tr>\n",
              "      <th>loan_status</th>\n",
              "      <td>0.000000</td>\n",
              "    </tr>\n",
              "    <tr>\n",
              "      <th>loan_age</th>\n",
              "      <td>0.000000</td>\n",
              "    </tr>\n",
              "    <tr>\n",
              "      <th>remaining_months</th>\n",
              "      <td>0.000000</td>\n",
              "    </tr>\n",
              "    <tr>\n",
              "      <th>int_rate</th>\n",
              "      <td>0.000000</td>\n",
              "    </tr>\n",
              "  </tbody>\n",
              "</table>\n",
              "</div>"
            ],
            "text/plain": [
              "                  missing percentage\n",
              "delq_by_disaster           99.791081\n",
              "zero_bal_code              97.837801\n",
              "est_ltv                    79.596493\n",
              "loan_id                     0.000000\n",
              "rep_period                  0.000000\n",
              "actual_upb                  0.000000\n",
              "loan_status                 0.000000\n",
              "loan_age                    0.000000\n",
              "remaining_months            0.000000\n",
              "int_rate                    0.000000"
            ]
          },
          "metadata": {
            "tags": []
          },
          "execution_count": 78
        }
      ]
    },
    {
      "cell_type": "markdown",
      "metadata": {
        "id": "nmlhX17n6hpc"
      },
      "source": [
        "#### Delinquency Due to Disaster"
      ]
    },
    {
      "cell_type": "code",
      "metadata": {
        "colab": {
          "base_uri": "https://localhost:8080/"
        },
        "id": "HBFvISka6g1c",
        "outputId": "da7ab173-4fbd-4607-8a5f-6d01010613c7"
      },
      "source": [
        "df_monthly.loc[df_monthly['delq_by_disaster'].notnull(), 'delq_by_disaster'] = 1\n",
        "df_monthly.loc[df_monthly['delq_by_disaster'].isnull(), 'delq_by_disaster'] = 0\n",
        "\n",
        "df_monthly['delq_by_disaster'].value_counts(dropna=False)"
      ],
      "execution_count": null,
      "outputs": [
        {
          "output_type": "execute_result",
          "data": {
            "text/plain": [
              "0    3398031\n",
              "1       7114\n",
              "Name: delq_by_disaster, dtype: int64"
            ]
          },
          "metadata": {
            "tags": []
          },
          "execution_count": 79
        }
      ]
    },
    {
      "cell_type": "markdown",
      "metadata": {
        "id": "OChy8KUF94Qd"
      },
      "source": [
        "#### Estimated Loan-to-Value (ELTV)"
      ]
    },
    {
      "cell_type": "code",
      "metadata": {
        "colab": {
          "base_uri": "https://localhost:8080/"
        },
        "id": "dWB6rQA695zR",
        "outputId": "7ef5661c-c6a6-4da8-ffaf-616569eca1f0"
      },
      "source": [
        "df_monthly['est_ltv'].plot(kind='hist', bins=100)"
      ],
      "execution_count": null,
      "outputs": [
        {
          "output_type": "execute_result",
          "data": {
            "text/plain": [
              "<matplotlib.axes._subplots.AxesSubplot at 0x7f574ec06bd0>"
            ]
          },
          "metadata": {
            "tags": []
          },
          "execution_count": 80
        },
        {
          "output_type": "display_data",
          "data": {
            "image/png": "[encoded data removed]",
            "text/plain": [
              "<Figure size 432x288 with 1 Axes>"
            ]
          },
          "metadata": {
            "tags": [],
            "needs_background": "light"
          }
        }
      ]
    },
    {
      "cell_type": "code",
      "metadata": {
        "id": "ndx7bptBSRKZ"
      },
      "source": [
        "# len(loan_idxes_to_del)"
      ],
      "execution_count": null,
      "outputs": []
    },
    {
      "cell_type": "code",
      "metadata": {
        "id": "m4_OYsThRbdR"
      },
      "source": [
        "# # df_monthly.loc[df_monthly['est_ltv'].isnull(), 'loan_id']\n",
        "# ## remove loan idxes that have unknown est_ltv\n",
        "# loan_idxes_to_del.update(df_monthly.loc[df_monthly['est_ltv'].isnull(), 'loan_id'].values.tolist())"
      ],
      "execution_count": null,
      "outputs": []
    },
    {
      "cell_type": "code",
      "metadata": {
        "id": "7Kqyh3dOSTqZ"
      },
      "source": [
        "# len(loan_idxes_to_del)"
      ],
      "execution_count": null,
      "outputs": []
    },
    {
      "cell_type": "markdown",
      "metadata": {
        "id": "VihfBv7Zvf0f"
      },
      "source": [
        "#### Current Loan Delinquency Status"
      ]
    },
    {
      "cell_type": "markdown",
      "metadata": {
        "id": "oqq94Ca3v72Q"
      },
      "source": [
        "remove loan id such that it has R as its loan status"
      ]
    },
    {
      "cell_type": "code",
      "metadata": {
        "colab": {
          "base_uri": "https://localhost:8080/"
        },
        "id": "d5gtXTAqvlI1",
        "outputId": "799135c0-a616-411e-b2f1-9f68f1d2494d"
      },
      "source": [
        "df_monthly.loc[df_monthly['loan_status']=='0', 'loan_status'] = 0\n",
        "df_monthly.loc[df_monthly['loan_status']=='R', 'loan_status'] = -1\n",
        "loan_idxes_to_del.update(df_monthly.loc[df_monthly['loan_status']==-1, 'loan_id'].values)\n",
        "\n",
        "df_monthly['loan_status'] = df_monthly['loan_status'].apply(np.int)\n",
        "len(loan_idxes_to_del)"
      ],
      "execution_count": null,
      "outputs": [
        {
          "output_type": "execute_result",
          "data": {
            "text/plain": [
              "35603"
            ]
          },
          "metadata": {
            "tags": []
          },
          "execution_count": 84
        }
      ]
    },
    {
      "cell_type": "code",
      "metadata": {
        "colab": {
          "base_uri": "https://localhost:8080/"
        },
        "id": "0uP7rK8Mr67W",
        "outputId": "b25d82b9-ff58-4eaf-a5ed-c538ee341059"
      },
      "source": [
        "df_monthly['loan_status'].value_counts(dropna=False)"
      ],
      "execution_count": null,
      "outputs": [
        {
          "output_type": "execute_result",
          "data": {
            "text/plain": [
              " 0      2797358\n",
              " 1        84947\n",
              " 2        53503\n",
              " 3        43523\n",
              " 4        40496\n",
              "         ...   \n",
              " 87           2\n",
              " 88           2\n",
              " 89           2\n",
              "-2            2\n",
              " 131          1\n",
              "Name: loan_status, Length: 93, dtype: int64"
            ]
          },
          "metadata": {
            "tags": []
          },
          "execution_count": 85
        }
      ]
    },
    {
      "cell_type": "markdown",
      "metadata": {
        "id": "NNiPyFUzY3tw"
      },
      "source": [
        "## Check valid loan id\n",
        "A valid loan id must have a valid monthly performance sequence, where the loan age starts with 0 and is consecutive. "
      ]
    },
    {
      "cell_type": "code",
      "metadata": {
        "colab": {
          "base_uri": "https://localhost:8080/"
        },
        "id": "ADEwEZaowJpw",
        "outputId": "0444f7ff-38e0-4c68-c5d3-2b070abf22ad"
      },
      "source": [
        "df_orig = df_orig.loc[~df_orig['loan_id'].isin(loan_idxes_to_del), :]\n",
        "df_monthly = df_monthly.loc[~df_monthly['loan_id'].isin(loan_idxes_to_del), :]\n",
        "\n",
        "print(\"df_orig.shape\", df_orig.shape)\n",
        "print(\"df_monthly.shape\", df_monthly.shape)"
      ],
      "execution_count": null,
      "outputs": [
        {
          "output_type": "stream",
          "text": [
            "df_orig.shape (22589, 19)\n",
            "df_monthly.shape (1807734, 10)\n"
          ],
          "name": "stdout"
        }
      ]
    },
    {
      "cell_type": "code",
      "metadata": {
        "id": "HbNKLCwDj_qm"
      },
      "source": [
        "selected_loan_idxes = df_orig['loan_id'].values.tolist()\n",
        "# selected_loan_idxes"
      ],
      "execution_count": null,
      "outputs": []
    },
    {
      "cell_type": "code",
      "metadata": {
        "id": "BysRld-wkB3-"
      },
      "source": [
        "def check_valid_seq(df, col):\n",
        "    '''\n",
        "    a valid loan monthly performance sequence satisfies:\n",
        "    1) starts with age 0\n",
        "    2) loan ages are consecutive\n",
        "    '''\n",
        "    seq = sorted(list(df.loc[:, col].values))\n",
        "    # print(seq)\n",
        "    # print(list(range(len(seq))))\n",
        "    res = seq==list(range(len(seq)))\n",
        "    # print('res', res)\n",
        "    return res"
      ],
      "execution_count": null,
      "outputs": []
    },
    {
      "cell_type": "code",
      "metadata": {
        "colab": {
          "base_uri": "https://localhost:8080/"
        },
        "id": "vVjbrnNoiKDC",
        "outputId": "4473c06d-474c-4aa4-f91a-f8bb02c3e3d9"
      },
      "source": [
        "%%time\n",
        "invalid_loan_idxes = set()\n",
        "for i, loan_id in enumerate(selected_loan_idxes):\n",
        "    df_m = df_monthly.loc[df_monthly['loan_id']==loan_id, :]\n",
        "    if not check_valid_seq(df_m, 'loan_age'):\n",
        "        invalid_loan_idxes.add(loan_id)\n",
        "    if i%2000==0:\n",
        "        print('{} loans have been checked'.format(i))\n"
      ],
      "execution_count": null,
      "outputs": [
        {
          "output_type": "stream",
          "text": [
            "0 loans have been checked\n",
            "2000 loans have been checked\n",
            "4000 loans have been checked\n",
            "6000 loans have been checked\n",
            "8000 loans have been checked\n",
            "10000 loans have been checked\n",
            "12000 loans have been checked\n",
            "14000 loans have been checked\n",
            "16000 loans have been checked\n",
            "18000 loans have been checked\n",
            "20000 loans have been checked\n",
            "22000 loans have been checked\n",
            "CPU times: user 45min 27s, sys: 6.95 s, total: 45min 34s\n",
            "Wall time: 45min 27s\n"
          ],
          "name": "stdout"
        }
      ]
    },
    {
      "cell_type": "code",
      "metadata": {
        "colab": {
          "base_uri": "https://localhost:8080/"
        },
        "id": "sg0G8lDX17_y",
        "outputId": "e807adc3-c91c-40be-d39d-81134e9ddd0c"
      },
      "source": [
        "len(invalid_loan_idxes)"
      ],
      "execution_count": null,
      "outputs": [
        {
          "output_type": "execute_result",
          "data": {
            "text/plain": [
              "2536"
            ]
          },
          "metadata": {
            "tags": []
          },
          "execution_count": 93
        }
      ]
    },
    {
      "cell_type": "code",
      "metadata": {
        "colab": {
          "base_uri": "https://localhost:8080/"
        },
        "id": "bh_VkHdA138Q",
        "outputId": "97b4a784-c4ee-406e-a209-dbf95aa52f1e"
      },
      "source": [
        "df_orig = df_orig.loc[~df_orig['loan_id'].isin(invalid_loan_idxes), :]\n",
        "df_monthly = df_monthly.loc[~df_monthly['loan_id'].isin(invalid_loan_idxes), :]\n",
        "\n",
        "print(\"df_orig.shape\", df_orig.shape)\n",
        "print(\"df_monthly.shape\", df_monthly.shape)"
      ],
      "execution_count": null,
      "outputs": [
        {
          "output_type": "stream",
          "text": [
            "df_orig.shape (20053, 19)\n",
            "df_monthly.shape (1694602, 10)\n"
          ],
          "name": "stdout"
        }
      ]
    },
    {
      "cell_type": "markdown",
      "metadata": {
        "id": "8edpebV1Z0gP"
      },
      "source": [
        "Sample data"
      ]
    },
    {
      "cell_type": "code",
      "metadata": {
        "colab": {
          "base_uri": "https://localhost:8080/",
          "height": 35
        },
        "id": "9oevX1g4Xfh-",
        "outputId": "12370056-d82f-4bee-c8cf-2b7b47f2d3f0"
      },
      "source": [
        "# np.random.seed(42)\n",
        "# rand_loan_idx = np.random.choice(np.array(list(selected_loan_idxes)), 1)[0]\n",
        "rand_loan_idx = df_orig.sample(1, random_state=42)['loan_id'].values[0]\n",
        "rand_loan_idx\n"
      ],
      "execution_count": null,
      "outputs": [
        {
          "output_type": "execute_result",
          "data": {
            "application/vnd.google.colaboratory.intrinsic+json": {
              "type": "string"
            },
            "text/plain": [
              "'F12Q40114355'"
            ]
          },
          "metadata": {
            "tags": []
          },
          "execution_count": 95
        }
      ]
    },
    {
      "cell_type": "code",
      "metadata": {
        "colab": {
          "base_uri": "https://localhost:8080/",
          "height": 100
        },
        "id": "ZkeAWD0YYoHp",
        "outputId": "15f0877a-547d-4bec-f951-ab24ab6ff7e6"
      },
      "source": [
        "df_orig.loc[df_orig['loan_id']==rand_loan_idx, :]"
      ],
      "execution_count": null,
      "outputs": [
        {
          "output_type": "execute_result",
          "data": {
            "text/html": [
              "<div>\n",
              "<style scoped>\n",
              "    .dataframe tbody tr th:only-of-type {\n",
              "        vertical-align: middle;\n",
              "    }\n",
              "\n",
              "    .dataframe tbody tr th {\n",
              "        vertical-align: top;\n",
              "    }\n",
              "\n",
              "    .dataframe thead th {\n",
              "        text-align: right;\n",
              "    }\n",
              "</style>\n",
              "<table border=\"1\" class=\"dataframe\">\n",
              "  <thead>\n",
              "    <tr style=\"text-align: right;\">\n",
              "      <th></th>\n",
              "      <th>loan_id</th>\n",
              "      <th>o_init_pay_d</th>\n",
              "      <th>o_term</th>\n",
              "      <th>o_upb</th>\n",
              "      <th>o_mi</th>\n",
              "      <th>o_ltv</th>\n",
              "      <th>o_int_rate</th>\n",
              "      <th>o_chan</th>\n",
              "      <th>o_purp</th>\n",
              "      <th>o_ind_sup_cfm</th>\n",
              "      <th>o_credit_score</th>\n",
              "      <th>o_first_flag</th>\n",
              "      <th>o_dti</th>\n",
              "      <th>o_num_brwrs</th>\n",
              "      <th>o_units</th>\n",
              "      <th>o_occ_stat</th>\n",
              "      <th>o_prop_st</th>\n",
              "      <th>o_prop_type</th>\n",
              "      <th>o_pt_val_md</th>\n",
              "    </tr>\n",
              "  </thead>\n",
              "  <tbody>\n",
              "    <tr>\n",
              "      <th>35372</th>\n",
              "      <td>F12Q40114355</td>\n",
              "      <td>201212</td>\n",
              "      <td>360</td>\n",
              "      <td>405000</td>\n",
              "      <td>0.0</td>\n",
              "      <td>73</td>\n",
              "      <td>3.625</td>\n",
              "      <td>C</td>\n",
              "      <td>N</td>\n",
              "      <td>0</td>\n",
              "      <td>736</td>\n",
              "      <td>unknown</td>\n",
              "      <td>37</td>\n",
              "      <td>2</td>\n",
              "      <td>1</td>\n",
              "      <td>P</td>\n",
              "      <td>IL</td>\n",
              "      <td>SF</td>\n",
              "      <td>9</td>\n",
              "    </tr>\n",
              "  </tbody>\n",
              "</table>\n",
              "</div>"
            ],
            "text/plain": [
              "            loan_id  o_init_pay_d  o_term  ...  o_prop_st  o_prop_type  o_pt_val_md\n",
              "35372  F12Q40114355        201212     360  ...         IL           SF            9\n",
              "\n",
              "[1 rows x 19 columns]"
            ]
          },
          "metadata": {
            "tags": []
          },
          "execution_count": 96
        }
      ]
    },
    {
      "cell_type": "code",
      "metadata": {
        "colab": {
          "base_uri": "https://localhost:8080/",
          "height": 979
        },
        "id": "1wD9u7mbalaK",
        "outputId": "b9c35e30-f946-4335-ddca-b04f02abcb03"
      },
      "source": [
        "df_monthly.loc[df_monthly['loan_id']==rand_loan_idx, :]"
      ],
      "execution_count": null,
      "outputs": [
        {
          "output_type": "execute_result",
          "data": {
            "text/html": [
              "<div>\n",
              "<style scoped>\n",
              "    .dataframe tbody tr th:only-of-type {\n",
              "        vertical-align: middle;\n",
              "    }\n",
              "\n",
              "    .dataframe tbody tr th {\n",
              "        vertical-align: top;\n",
              "    }\n",
              "\n",
              "    .dataframe thead th {\n",
              "        text-align: right;\n",
              "    }\n",
              "</style>\n",
              "<table border=\"1\" class=\"dataframe\">\n",
              "  <thead>\n",
              "    <tr style=\"text-align: right;\">\n",
              "      <th></th>\n",
              "      <th>loan_id</th>\n",
              "      <th>rep_period</th>\n",
              "      <th>actual_upb</th>\n",
              "      <th>loan_status</th>\n",
              "      <th>loan_age</th>\n",
              "      <th>remaining_months</th>\n",
              "      <th>zero_bal_code</th>\n",
              "      <th>int_rate</th>\n",
              "      <th>est_ltv</th>\n",
              "      <th>delq_by_disaster</th>\n",
              "    </tr>\n",
              "  </thead>\n",
              "  <tbody>\n",
              "    <tr>\n",
              "      <th>1731624</th>\n",
              "      <td>F12Q40114355</td>\n",
              "      <td>201211</td>\n",
              "      <td>405000.00</td>\n",
              "      <td>0</td>\n",
              "      <td>0</td>\n",
              "      <td>360</td>\n",
              "      <td>NaN</td>\n",
              "      <td>3.625</td>\n",
              "      <td>NaN</td>\n",
              "      <td>0</td>\n",
              "    </tr>\n",
              "    <tr>\n",
              "      <th>1731625</th>\n",
              "      <td>F12Q40114355</td>\n",
              "      <td>201212</td>\n",
              "      <td>404000.00</td>\n",
              "      <td>0</td>\n",
              "      <td>1</td>\n",
              "      <td>359</td>\n",
              "      <td>NaN</td>\n",
              "      <td>3.625</td>\n",
              "      <td>NaN</td>\n",
              "      <td>0</td>\n",
              "    </tr>\n",
              "    <tr>\n",
              "      <th>1731626</th>\n",
              "      <td>F12Q40114355</td>\n",
              "      <td>201301</td>\n",
              "      <td>404000.00</td>\n",
              "      <td>0</td>\n",
              "      <td>2</td>\n",
              "      <td>358</td>\n",
              "      <td>NaN</td>\n",
              "      <td>3.625</td>\n",
              "      <td>NaN</td>\n",
              "      <td>0</td>\n",
              "    </tr>\n",
              "    <tr>\n",
              "      <th>1731627</th>\n",
              "      <td>F12Q40114355</td>\n",
              "      <td>201302</td>\n",
              "      <td>403000.00</td>\n",
              "      <td>0</td>\n",
              "      <td>3</td>\n",
              "      <td>357</td>\n",
              "      <td>NaN</td>\n",
              "      <td>3.625</td>\n",
              "      <td>NaN</td>\n",
              "      <td>0</td>\n",
              "    </tr>\n",
              "    <tr>\n",
              "      <th>1731628</th>\n",
              "      <td>F12Q40114355</td>\n",
              "      <td>201303</td>\n",
              "      <td>402000.00</td>\n",
              "      <td>0</td>\n",
              "      <td>4</td>\n",
              "      <td>356</td>\n",
              "      <td>NaN</td>\n",
              "      <td>3.625</td>\n",
              "      <td>NaN</td>\n",
              "      <td>0</td>\n",
              "    </tr>\n",
              "    <tr>\n",
              "      <th>1731629</th>\n",
              "      <td>F12Q40114355</td>\n",
              "      <td>201304</td>\n",
              "      <td>402000.00</td>\n",
              "      <td>0</td>\n",
              "      <td>5</td>\n",
              "      <td>355</td>\n",
              "      <td>NaN</td>\n",
              "      <td>3.625</td>\n",
              "      <td>NaN</td>\n",
              "      <td>0</td>\n",
              "    </tr>\n",
              "    <tr>\n",
              "      <th>1731630</th>\n",
              "      <td>F12Q40114355</td>\n",
              "      <td>201305</td>\n",
              "      <td>401000.00</td>\n",
              "      <td>0</td>\n",
              "      <td>6</td>\n",
              "      <td>354</td>\n",
              "      <td>NaN</td>\n",
              "      <td>3.625</td>\n",
              "      <td>NaN</td>\n",
              "      <td>0</td>\n",
              "    </tr>\n",
              "    <tr>\n",
              "      <th>1731631</th>\n",
              "      <td>F12Q40114355</td>\n",
              "      <td>201306</td>\n",
              "      <td>400595.23</td>\n",
              "      <td>0</td>\n",
              "      <td>7</td>\n",
              "      <td>353</td>\n",
              "      <td>NaN</td>\n",
              "      <td>3.625</td>\n",
              "      <td>NaN</td>\n",
              "      <td>0</td>\n",
              "    </tr>\n",
              "    <tr>\n",
              "      <th>1731632</th>\n",
              "      <td>F12Q40114355</td>\n",
              "      <td>201307</td>\n",
              "      <td>399958.35</td>\n",
              "      <td>0</td>\n",
              "      <td>8</td>\n",
              "      <td>352</td>\n",
              "      <td>NaN</td>\n",
              "      <td>3.625</td>\n",
              "      <td>NaN</td>\n",
              "      <td>0</td>\n",
              "    </tr>\n",
              "    <tr>\n",
              "      <th>1731633</th>\n",
              "      <td>F12Q40114355</td>\n",
              "      <td>201308</td>\n",
              "      <td>399319.55</td>\n",
              "      <td>0</td>\n",
              "      <td>9</td>\n",
              "      <td>351</td>\n",
              "      <td>NaN</td>\n",
              "      <td>3.625</td>\n",
              "      <td>NaN</td>\n",
              "      <td>0</td>\n",
              "    </tr>\n",
              "    <tr>\n",
              "      <th>1731634</th>\n",
              "      <td>F12Q40114355</td>\n",
              "      <td>201309</td>\n",
              "      <td>398678.82</td>\n",
              "      <td>0</td>\n",
              "      <td>10</td>\n",
              "      <td>350</td>\n",
              "      <td>NaN</td>\n",
              "      <td>3.625</td>\n",
              "      <td>NaN</td>\n",
              "      <td>0</td>\n",
              "    </tr>\n",
              "    <tr>\n",
              "      <th>1731635</th>\n",
              "      <td>F12Q40114355</td>\n",
              "      <td>201310</td>\n",
              "      <td>398036.15</td>\n",
              "      <td>0</td>\n",
              "      <td>11</td>\n",
              "      <td>349</td>\n",
              "      <td>NaN</td>\n",
              "      <td>3.625</td>\n",
              "      <td>NaN</td>\n",
              "      <td>0</td>\n",
              "    </tr>\n",
              "    <tr>\n",
              "      <th>1731636</th>\n",
              "      <td>F12Q40114355</td>\n",
              "      <td>201311</td>\n",
              "      <td>397391.54</td>\n",
              "      <td>0</td>\n",
              "      <td>12</td>\n",
              "      <td>348</td>\n",
              "      <td>NaN</td>\n",
              "      <td>3.625</td>\n",
              "      <td>NaN</td>\n",
              "      <td>0</td>\n",
              "    </tr>\n",
              "    <tr>\n",
              "      <th>1731637</th>\n",
              "      <td>F12Q40114355</td>\n",
              "      <td>201312</td>\n",
              "      <td>396744.98</td>\n",
              "      <td>0</td>\n",
              "      <td>13</td>\n",
              "      <td>347</td>\n",
              "      <td>NaN</td>\n",
              "      <td>3.625</td>\n",
              "      <td>NaN</td>\n",
              "      <td>0</td>\n",
              "    </tr>\n",
              "    <tr>\n",
              "      <th>1731638</th>\n",
              "      <td>F12Q40114355</td>\n",
              "      <td>201401</td>\n",
              "      <td>396096.47</td>\n",
              "      <td>0</td>\n",
              "      <td>14</td>\n",
              "      <td>346</td>\n",
              "      <td>NaN</td>\n",
              "      <td>3.625</td>\n",
              "      <td>NaN</td>\n",
              "      <td>0</td>\n",
              "    </tr>\n",
              "    <tr>\n",
              "      <th>1731639</th>\n",
              "      <td>F12Q40114355</td>\n",
              "      <td>201402</td>\n",
              "      <td>395446.00</td>\n",
              "      <td>0</td>\n",
              "      <td>15</td>\n",
              "      <td>345</td>\n",
              "      <td>NaN</td>\n",
              "      <td>3.625</td>\n",
              "      <td>NaN</td>\n",
              "      <td>0</td>\n",
              "    </tr>\n",
              "    <tr>\n",
              "      <th>1731640</th>\n",
              "      <td>F12Q40114355</td>\n",
              "      <td>201403</td>\n",
              "      <td>394793.57</td>\n",
              "      <td>0</td>\n",
              "      <td>16</td>\n",
              "      <td>344</td>\n",
              "      <td>NaN</td>\n",
              "      <td>3.625</td>\n",
              "      <td>NaN</td>\n",
              "      <td>0</td>\n",
              "    </tr>\n",
              "    <tr>\n",
              "      <th>1731641</th>\n",
              "      <td>F12Q40114355</td>\n",
              "      <td>201404</td>\n",
              "      <td>394139.17</td>\n",
              "      <td>0</td>\n",
              "      <td>17</td>\n",
              "      <td>343</td>\n",
              "      <td>NaN</td>\n",
              "      <td>3.625</td>\n",
              "      <td>NaN</td>\n",
              "      <td>0</td>\n",
              "    </tr>\n",
              "    <tr>\n",
              "      <th>1731642</th>\n",
              "      <td>F12Q40114355</td>\n",
              "      <td>201405</td>\n",
              "      <td>393482.79</td>\n",
              "      <td>0</td>\n",
              "      <td>18</td>\n",
              "      <td>342</td>\n",
              "      <td>NaN</td>\n",
              "      <td>3.625</td>\n",
              "      <td>NaN</td>\n",
              "      <td>0</td>\n",
              "    </tr>\n",
              "    <tr>\n",
              "      <th>1731643</th>\n",
              "      <td>F12Q40114355</td>\n",
              "      <td>201406</td>\n",
              "      <td>392824.43</td>\n",
              "      <td>0</td>\n",
              "      <td>19</td>\n",
              "      <td>341</td>\n",
              "      <td>NaN</td>\n",
              "      <td>3.625</td>\n",
              "      <td>NaN</td>\n",
              "      <td>0</td>\n",
              "    </tr>\n",
              "    <tr>\n",
              "      <th>1731644</th>\n",
              "      <td>F12Q40114355</td>\n",
              "      <td>201407</td>\n",
              "      <td>392164.08</td>\n",
              "      <td>0</td>\n",
              "      <td>20</td>\n",
              "      <td>340</td>\n",
              "      <td>NaN</td>\n",
              "      <td>3.625</td>\n",
              "      <td>NaN</td>\n",
              "      <td>0</td>\n",
              "    </tr>\n",
              "    <tr>\n",
              "      <th>1731645</th>\n",
              "      <td>F12Q40114355</td>\n",
              "      <td>201408</td>\n",
              "      <td>391501.73</td>\n",
              "      <td>0</td>\n",
              "      <td>21</td>\n",
              "      <td>339</td>\n",
              "      <td>NaN</td>\n",
              "      <td>3.625</td>\n",
              "      <td>NaN</td>\n",
              "      <td>0</td>\n",
              "    </tr>\n",
              "    <tr>\n",
              "      <th>1731646</th>\n",
              "      <td>F12Q40114355</td>\n",
              "      <td>201409</td>\n",
              "      <td>390837.38</td>\n",
              "      <td>0</td>\n",
              "      <td>22</td>\n",
              "      <td>338</td>\n",
              "      <td>NaN</td>\n",
              "      <td>3.625</td>\n",
              "      <td>NaN</td>\n",
              "      <td>0</td>\n",
              "    </tr>\n",
              "    <tr>\n",
              "      <th>1731647</th>\n",
              "      <td>F12Q40114355</td>\n",
              "      <td>201410</td>\n",
              "      <td>390171.02</td>\n",
              "      <td>0</td>\n",
              "      <td>23</td>\n",
              "      <td>337</td>\n",
              "      <td>NaN</td>\n",
              "      <td>3.625</td>\n",
              "      <td>NaN</td>\n",
              "      <td>0</td>\n",
              "    </tr>\n",
              "    <tr>\n",
              "      <th>1731648</th>\n",
              "      <td>F12Q40114355</td>\n",
              "      <td>201411</td>\n",
              "      <td>389502.65</td>\n",
              "      <td>0</td>\n",
              "      <td>24</td>\n",
              "      <td>336</td>\n",
              "      <td>NaN</td>\n",
              "      <td>3.625</td>\n",
              "      <td>NaN</td>\n",
              "      <td>0</td>\n",
              "    </tr>\n",
              "    <tr>\n",
              "      <th>1731649</th>\n",
              "      <td>F12Q40114355</td>\n",
              "      <td>201412</td>\n",
              "      <td>388832.26</td>\n",
              "      <td>0</td>\n",
              "      <td>25</td>\n",
              "      <td>335</td>\n",
              "      <td>NaN</td>\n",
              "      <td>3.625</td>\n",
              "      <td>NaN</td>\n",
              "      <td>0</td>\n",
              "    </tr>\n",
              "    <tr>\n",
              "      <th>1731650</th>\n",
              "      <td>F12Q40114355</td>\n",
              "      <td>201501</td>\n",
              "      <td>387452.27</td>\n",
              "      <td>0</td>\n",
              "      <td>26</td>\n",
              "      <td>334</td>\n",
              "      <td>NaN</td>\n",
              "      <td>3.625</td>\n",
              "      <td>NaN</td>\n",
              "      <td>0</td>\n",
              "    </tr>\n",
              "    <tr>\n",
              "      <th>1731651</th>\n",
              "      <td>F12Q40114355</td>\n",
              "      <td>201502</td>\n",
              "      <td>387452.27</td>\n",
              "      <td>0</td>\n",
              "      <td>27</td>\n",
              "      <td>333</td>\n",
              "      <td>NaN</td>\n",
              "      <td>3.625</td>\n",
              "      <td>NaN</td>\n",
              "      <td>0</td>\n",
              "    </tr>\n",
              "    <tr>\n",
              "      <th>1731652</th>\n",
              "      <td>F12Q40114355</td>\n",
              "      <td>201503</td>\n",
              "      <td>386775.69</td>\n",
              "      <td>0</td>\n",
              "      <td>28</td>\n",
              "      <td>332</td>\n",
              "      <td>NaN</td>\n",
              "      <td>3.625</td>\n",
              "      <td>NaN</td>\n",
              "      <td>0</td>\n",
              "    </tr>\n",
              "    <tr>\n",
              "      <th>1731653</th>\n",
              "      <td>F12Q40114355</td>\n",
              "      <td>201504</td>\n",
              "      <td>0.00</td>\n",
              "      <td>0</td>\n",
              "      <td>29</td>\n",
              "      <td>331</td>\n",
              "      <td>1.0</td>\n",
              "      <td>3.625</td>\n",
              "      <td>NaN</td>\n",
              "      <td>0</td>\n",
              "    </tr>\n",
              "  </tbody>\n",
              "</table>\n",
              "</div>"
            ],
            "text/plain": [
              "              loan_id  rep_period  ...  est_ltv  delq_by_disaster\n",
              "1731624  F12Q40114355      201211  ...      NaN                 0\n",
              "1731625  F12Q40114355      201212  ...      NaN                 0\n",
              "1731626  F12Q40114355      201301  ...      NaN                 0\n",
              "1731627  F12Q40114355      201302  ...      NaN                 0\n",
              "1731628  F12Q40114355      201303  ...      NaN                 0\n",
              "1731629  F12Q40114355      201304  ...      NaN                 0\n",
              "1731630  F12Q40114355      201305  ...      NaN                 0\n",
              "1731631  F12Q40114355      201306  ...      NaN                 0\n",
              "1731632  F12Q40114355      201307  ...      NaN                 0\n",
              "1731633  F12Q40114355      201308  ...      NaN                 0\n",
              "1731634  F12Q40114355      201309  ...      NaN                 0\n",
              "1731635  F12Q40114355      201310  ...      NaN                 0\n",
              "1731636  F12Q40114355      201311  ...      NaN                 0\n",
              "1731637  F12Q40114355      201312  ...      NaN                 0\n",
              "1731638  F12Q40114355      201401  ...      NaN                 0\n",
              "1731639  F12Q40114355      201402  ...      NaN                 0\n",
              "1731640  F12Q40114355      201403  ...      NaN                 0\n",
              "1731641  F12Q40114355      201404  ...      NaN                 0\n",
              "1731642  F12Q40114355      201405  ...      NaN                 0\n",
              "1731643  F12Q40114355      201406  ...      NaN                 0\n",
              "1731644  F12Q40114355      201407  ...      NaN                 0\n",
              "1731645  F12Q40114355      201408  ...      NaN                 0\n",
              "1731646  F12Q40114355      201409  ...      NaN                 0\n",
              "1731647  F12Q40114355      201410  ...      NaN                 0\n",
              "1731648  F12Q40114355      201411  ...      NaN                 0\n",
              "1731649  F12Q40114355      201412  ...      NaN                 0\n",
              "1731650  F12Q40114355      201501  ...      NaN                 0\n",
              "1731651  F12Q40114355      201502  ...      NaN                 0\n",
              "1731652  F12Q40114355      201503  ...      NaN                 0\n",
              "1731653  F12Q40114355      201504  ...      NaN                 0\n",
              "\n",
              "[30 rows x 10 columns]"
            ]
          },
          "metadata": {
            "tags": []
          },
          "execution_count": 97
        }
      ]
    },
    {
      "cell_type": "code",
      "metadata": {
        "colab": {
          "base_uri": "https://localhost:8080/"
        },
        "id": "Fk5uJM-3apGz",
        "outputId": "248e9737-1507-44ca-805d-494c26c661b8"
      },
      "source": [
        "df_orig.info(memory_usage=True)"
      ],
      "execution_count": null,
      "outputs": [
        {
          "output_type": "stream",
          "text": [
            "<class 'pandas.core.frame.DataFrame'>\n",
            "Int64Index: 20053 entries, 6 to 73625\n",
            "Data columns (total 19 columns):\n",
            " #   Column          Non-Null Count  Dtype  \n",
            "---  ------          --------------  -----  \n",
            " 0   loan_id         20053 non-null  object \n",
            " 1   o_init_pay_d    20053 non-null  int64  \n",
            " 2   o_term          20053 non-null  int64  \n",
            " 3   o_upb           20053 non-null  int64  \n",
            " 4   o_mi            20053 non-null  float64\n",
            " 5   o_ltv           20053 non-null  int64  \n",
            " 6   o_int_rate      20053 non-null  float64\n",
            " 7   o_chan          20053 non-null  object \n",
            " 8   o_purp          20053 non-null  object \n",
            " 9   o_ind_sup_cfm   20053 non-null  int64  \n",
            " 10  o_credit_score  20053 non-null  int64  \n",
            " 11  o_first_flag    20053 non-null  object \n",
            " 12  o_dti           20053 non-null  int64  \n",
            " 13  o_num_brwrs     20053 non-null  int64  \n",
            " 14  o_units         20053 non-null  int64  \n",
            " 15  o_occ_stat      20053 non-null  object \n",
            " 16  o_prop_st       20053 non-null  object \n",
            " 17  o_prop_type     20053 non-null  object \n",
            " 18  o_pt_val_md     20053 non-null  int64  \n",
            "dtypes: float64(2), int64(10), object(7)\n",
            "memory usage: 3.1+ MB\n"
          ],
          "name": "stdout"
        }
      ]
    },
    {
      "cell_type": "code",
      "metadata": {
        "colab": {
          "base_uri": "https://localhost:8080/"
        },
        "id": "rqLd_EK_dewA",
        "outputId": "f549cd76-e78f-4174-b11b-fa7408bee1a9"
      },
      "source": [
        "df_monthly.info(memory_usage=True)"
      ],
      "execution_count": null,
      "outputs": [
        {
          "output_type": "stream",
          "text": [
            "<class 'pandas.core.frame.DataFrame'>\n",
            "Int64Index: 1694602 entries, 0 to 3405144\n",
            "Data columns (total 10 columns):\n",
            " #   Column            Dtype  \n",
            "---  ------            -----  \n",
            " 0   loan_id           object \n",
            " 1   rep_period        int64  \n",
            " 2   actual_upb        float64\n",
            " 3   loan_status       int64  \n",
            " 4   loan_age          int64  \n",
            " 5   remaining_months  int64  \n",
            " 6   zero_bal_code     float64\n",
            " 7   int_rate          float64\n",
            " 8   est_ltv           float64\n",
            " 9   delq_by_disaster  object \n",
            "dtypes: float64(4), int64(4), object(2)\n",
            "memory usage: 142.2+ MB\n"
          ],
          "name": "stdout"
        }
      ]
    },
    {
      "cell_type": "markdown",
      "metadata": {
        "id": "vTKbVjsehJqA"
      },
      "source": [
        "## Save data "
      ]
    },
    {
      "cell_type": "code",
      "metadata": {
        "colab": {
          "base_uri": "https://localhost:8080/"
        },
        "id": "2UFLilPhinoa",
        "outputId": "102a5b14-27bb-437e-b9f5-d3ac23b86954"
      },
      "source": [
        "now = datetime.now()\n",
        "# print(now)\n",
        "\n",
        "utc = pytz.utc\n",
        "utc_dt = datetime(now.year, now.month, now.day, now.hour, now.minute, now.second, tzinfo=utc)\n",
        "eastern = pytz.timezone('US/Eastern')\n",
        "loc_dt = utc_dt.astimezone(eastern)\n",
        "fmt = '%Y%m%d_%H%M'\n",
        "cur_datetime = loc_dt.strftime(fmt)\n",
        "cur_datetime"
      ],
      "execution_count": null,
      "outputs": [
        {
          "output_type": "execute_result",
          "data": {
            "application/vnd.google.colaboratory.intrinsic+json": {
              "type": "string"
            },
            "text/plain": [
              "'20210803_2235'"
            ]
          },
          "metadata": {
            "tags": []
          },
          "execution_count": 100
        }
      ]
    },
    {
      "cell_type": "code",
      "metadata": {
        "id": "RlpR2P6heBsy"
      },
      "source": [
        "# file_name = \"/content/drive/MyDrive/Colab Notebooks/FreddieMac/FreddieMac/dataset_full/v3/data_orig_2011_2019_pre_chg_\"\n",
        "# df_orig.to_csv(file_name+cur_datetime+'.csv')\n",
        "# # print(file_name+cur_datetime+'.csv')"
      ],
      "execution_count": null,
      "outputs": []
    },
    {
      "cell_type": "code",
      "metadata": {
        "id": "rY158LgAeyAo"
      },
      "source": [
        "# file_name = \"/content/drive/MyDrive/Colab Notebooks/FreddieMac/FreddieMac/dataset_full/v3/data_monthly_2011_2019_pre_chg_\"\n",
        "# df_monthly.to_csv(file_name+cur_datetime+'.csv')\n",
        "# # print(file_name+cur_datetime+'.csv')"
      ],
      "execution_count": null,
      "outputs": []
    },
    {
      "cell_type": "code",
      "metadata": {
        "id": "eopSbXbre8QI"
      },
      "source": [
        ""
      ],
      "execution_count": null,
      "outputs": []
    }
  ]
}